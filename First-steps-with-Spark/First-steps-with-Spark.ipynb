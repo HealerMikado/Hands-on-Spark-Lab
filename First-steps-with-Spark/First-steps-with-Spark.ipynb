{
 "cells": [
  {
   "cell_type": "markdown",
   "id": "normal-alcohol",
   "metadata": {},
   "source": [
    "# Lab 1 - First steps with Spark\n",
    "\n",
    "First:\n",
    "\n",
    "- open a new tab\n",
    "- open a terminal \n",
    "- Execute `watch kubectl get pods` to see Pods running in real time during the whole tutorial\n",
    "\n",
    "At this end of this lab :\n",
    "\n",
    "- export your notebook : File > Export Notebook As ... > Export Notebook To HTML\n",
    "- And turn your Jupyter service off !"
   ]
  },
  {
   "cell_type": "markdown",
   "id": "cab887e3",
   "metadata": {},
   "source": [
    "Let's simply explain the Spark context. What's happening when I use Spark ? What is Spark ? What can I do with it ? Why is it dope ? Let's get going !"
   ]
  },
  {
   "cell_type": "markdown",
   "id": "9e647049",
   "metadata": {},
   "source": [
    "## Understand some basic principles of Spark context"
   ]
  },
  {
   "cell_type": "markdown",
   "id": "e95641b9",
   "metadata": {},
   "source": [
    "### What is Spark ?\n",
    "\n",
    "\n",
    "Let's keep it simple. \n",
    "\n",
    "The intuitive way: Spark distributes tasks to different Worker nodes (machine executing the tasks).  \n",
    "The Kubernetes way: Spark distributes tasks to different containers. The location of containers among the different worker nodes is then handled by Kubernetes. The more computation power you need, the more containers get created. It's a smooth way to save Worker nodes resources.\n",
    "With Kubernetes, we just speak in terms of Pods rathen than containers.\n",
    "\n",
    "Pretty handy right ? If you want to have a deeper look on how it's done, you can by clicking on <font size=\"3\" color=\"darkgreen\"><b>If you want more </b></font> but you still have some work to do so don't waste your time ! You can keep it to the end"
   ]
  },
  {
   "cell_type": "markdown",
   "id": "d17a6b30",
   "metadata": {},
   "source": [
    "<details>    \n",
    "<summary>\n",
    "    <font size=\"3\" color=\"darkgreen\"><b>If you want more ! </b></font>\n",
    "</summary>\n",
    "\n",
    "### Spark Context\n",
    "\n",
    "The **Spark Context** is an object that hides the complexity of the underlying infrastructure to perform computation from the Data Scientist.\n",
    "\n",
    "This Spark context is a JVM process that gives access to a Spark **driver** which schedules the tasks and spans tasks across Worker nodes through Executors.\n",
    "In brief, the Spark driver communicates with all the Worker nodes. \n",
    "\n",
    "Each Worker node consists of one or more Executor(s) who are responsible for running the Task. Executors register themselves with Driver. The Driver has all the information about the Executors at all the time.\n",
    "\n",
    "This working combination of Driver and Workers is known as **Spark Application**.\n",
    "\n",
    "JVM: Java virtual machine that load, verifies and executes Java bytecode.\n",
    "\n",
    "![](../First-steps-with-cloud-computing/img/spark_context.png)\n",
    "\n",
    "The Spark Application is launched with the help of the **Cluster Manager**. Spark is dependent on the **Cluster Manager** to launch the Executors and also the Driver (in Cluster mode). \n",
    "\n",
    "Spark can be run with any of the 5 following **Cluster Manager** :\n",
    "\n",
    "    - local : Driver use CPU threads on your local machine\n",
    "    - Spark Standalone Mode : A basic resource manager provided by Spark\n",
    "    - YARN : the historical resource manager commonly used in traditional Big Data infrastructures (Courdera or Hortonworks cluster for instance)\n",
    "    - Mesos : the resource manager from Berkeley University\n",
    "    - Kubernetes : the game changing containers orchestrator\n",
    "\n",
    "## Spark on a Kubernetes cluster\n",
    "\n",
    "![](../First-steps-with-cloud-computing/img/k8spark-cluster-mode.png)\n",
    "\n",
    "The Spark driver runs on a Kubernetes Pod and creates executors running within Kubernetes pods. In simple terms, Spark driver is in a Pod and it distributes tasks to different Pods. The location of Pods among the different worker nodes is then handled by Kubernetes. \n",
    "\n",
    "The Kubernetes **Scheduler** checks if pods are assigned to nodes. For every Pod that the scheduler discovers, the scheduler is responsible of finding the best node for that Pod to run on.  \n",
    "The Kubernetes **API Server** allows to interact with Pods. It schedules executor Pods by creating or deleting Pods.\n",
    "\n",
    "\n",
    "</detail>\n",
    "\n"
   ]
  },
  {
   "cell_type": "markdown",
   "id": "15a6b74d",
   "metadata": {},
   "source": [
    "## Creating a Spark session\n",
    "\n",
    "Write in a new cell :\n",
    "- execute the 2 following cells to initialize a Spark session\n",
    "- `spark`  to check if everything is ok"
   ]
  },
  {
   "cell_type": "code",
   "execution_count": null,
   "id": "c2117bfe",
   "metadata": {},
   "outputs": [],
   "source": [
    "import os"
   ]
  },
  {
   "cell_type": "code",
   "execution_count": null,
   "id": "4e066e91-b825-4fd0-9f58-de443b8e7b74",
   "metadata": {},
   "outputs": [],
   "source": [
    "from pyspark.sql import SparkSession\n",
    "\n",
    "spark = (SparkSession \n",
    "         .builder\n",
    "         # default url of the internally accessed Kubernetes API\n",
    "         # (This Jupyter notebook service is itself a Kubernetes Pod)\n",
    "         .master(\"k8s://https://kubernetes.default.svc:443\")\n",
    "         # Executors spark docker image: for simplicity reasons, this jupyter notebook is reused \n",
    "         .config(\"spark.kubernetes.container.image\", os.environ['IMAGE_NAME'])\n",
    "         # Name of the Kubernetes namespace\n",
    "         .config(\"spark.kubernetes.namespace\", os.environ['KUBERNETES_NAMESPACE'])\n",
    "         # Allocated memory to the JVM\n",
    "         # Stay careful, by default, the Kubernetes pods has a higher limit which depends on other parameters.\n",
    "         .config(\"spark.executor.memory\", \"4g\")\n",
    "         .config(\"spark.kubernetes.driver.pod.name\", os.environ['KUBERNETES_POD_NAME'])\n",
    "         # dynamic allocation configuration\n",
    "         .config(\"spark.dynamicAllocation.enabled\",\"true\")\n",
    "         .config(\"spark.dynamicAllocation.initialExecutors\",\"1\")\n",
    "         .config(\"spark.dynamicAllocation.minExecutors\",\"1\")\n",
    "         .config(\"spark.dynamicAllocation.maxExecutors\",\"60\")\n",
    "         # Ratio match the number of pods to create for a given number of parallel tasks \n",
    "         # (100 parallel, ratio of 1, one aims at 100 pods, with 0.5 it would be 50 pods)\n",
    "         .config(\"spark.dynamicAllocation.executorAllocationRatio\",\"1\")\n",
    "         .config(\"spark.dynamicAllocation.shuffleTracking.enabled\",\"true\")\n",
    "         .getOrCreate()\n",
    "        )\n"
   ]
  },
  {
   "cell_type": "markdown",
   "id": "107b1b84",
   "metadata": {},
   "source": [
    "<details>    \n",
    "<summary>\n",
    "    <font size=\"3\" color=\"darkgreen\"><b>Non-dynamic allocation: if you want to choose manually the number of pods (not recommended) </b></font>\n",
    "</summary>\n",
    "    \n",
    "from pyspark.sql import SparkSession\n",
    "\n",
    "spark = (SparkSession \n",
    "         .builder\n",
    "         # default url of the internally accessed Kubernetes API\n",
    "         # (This Jupyter notebook service is itself a Kubernetes Pod)\n",
    "         .master(\"k8s://https://kubernetes.default.svc:443\")\n",
    "         # Executors spark docker image: for simplicity reasons, this jupyter notebook is reused \n",
    "         .config(\"spark.kubernetes.container.image\", os.environ['IMAGE_NAME'])\n",
    "         # Name of the Kubernetes namespace\n",
    "         .config(\"spark.kubernetes.namespace\", os.environ['KUBERNETES_NAMESPACE'])\n",
    "         # Number of Spark executors, there will be launched as much Kubernetes pods as the entered integer.\n",
    "         .config(\"spark.executor.instances\", \"5\")\n",
    "         # Allocated memory to the JVM\n",
    "         # Stay careful, by default, the Kubernetes pods has a higher limit which depends on other parameters.\n",
    "         .config(\"spark.executor.memory\", \"4g\")\n",
    "         .config(\"spark.kubernetes.driver.pod.name\", os.environ['KUBERNETES_POD_NAME'])a\n",
    "         .getOrCreate()\n",
    "        )\n",
    "\n",
    "\n"
   ]
  },
  {
   "cell_type": "code",
   "execution_count": 5,
   "id": "classical-willow",
   "metadata": {},
   "outputs": [
    {
     "data": {
      "text/html": [
       "\n",
       "            <div>\n",
       "                <p><b>SparkSession - in-memory</b></p>\n",
       "                \n",
       "        <div>\n",
       "            <p><b>SparkContext</b></p>\n",
       "\n",
       "            <p><a href=\"http://jupyter-824158-0.jupyter-824158.user-nrandriamanana.svc.cluster.local:4040\">Spark UI</a></p>\n",
       "\n",
       "            <dl>\n",
       "              <dt>Version</dt>\n",
       "                <dd><code>v3.2.1</code></dd>\n",
       "              <dt>Master</dt>\n",
       "                <dd><code>local[5]</code></dd>\n",
       "              <dt>AppName</dt>\n",
       "                <dd><code>Lab 1</code></dd>\n",
       "            </dl>\n",
       "        </div>\n",
       "        \n",
       "            </div>\n",
       "        "
      ],
      "text/plain": [
       "<pyspark.sql.session.SparkSession at 0x7f9d6c2b7820>"
      ]
     },
     "execution_count": 5,
     "metadata": {},
     "output_type": "execute_result"
    }
   ],
   "source": [
    "#Spark session\n",
    "spark"
   ]
  },
  {
   "cell_type": "markdown",
   "id": "1efaea89",
   "metadata": {},
   "source": [
    "Now you can check out your terminal and see that a pyspark Pod has been created"
   ]
  },
  {
   "cell_type": "markdown",
   "id": "contemporary-signal",
   "metadata": {},
   "source": [
    "## 💾First steps with Spark - Data importation\n",
    "\n",
    "Spark's main object class is the DataFrame, which is a distributed table. It is analogous to R's or Python (Pandas)'s data frames: one row represents an observation, one column represents a variable. But contrary to R or Python, Spark's DataFrames can be distributed over hundred of nodes.\n",
    "\n",
    "Spark support multiple data formats, and multiple  ways to load them.\n",
    "\n",
    "- data format : csv, json, parquet (an open source column oriented format)\n",
    "- can read archive files\n",
    "- schema detection or user defined schema. For static data, like a json file, schema detection can be use with good results.\n",
    "\n",
    "Spark has multiple syntaxes to import data. Some are simple with no customisation, others are more complexes but you can specify options.\n",
    "\n",
    "The simplest syntaxes to load a json or a csv file are :\n",
    "\n",
    "```python\n",
    "# JSON\n",
    "json_df = spark.read.json([location of the file])\n",
    "# csv\n",
    "csv_df = spark.read.csv([location of the file])\n",
    "\n",
    "```\n",
    "\n",
    "In the future, you may consult the [Data Source documentation](https://spark.apache.org/docs/latest/sql-data-sources.html) to have the complete description of Spark's reading abilities.\n",
    "\n",
    "The data you will use in this lab are real data from the twitter [sampled stream API](https://developer.twitter.com/en/docs/twitter-api/tweets/sampled-stream/introduction) and [filtered stream API](https://developer.twitter.com/en/docs/twitter-api/tweets/filtered-stream/introduction). The tweets folder contains more than 50 files and more than 2 million tweets. The tweets was collected between the 14/04/2021 and the 18/04/2021. The total collection time was less than 10 hours.\n",
    "\n",
    "---\n",
    "\n",
    "### ✍Hands-on 1  - Data importation\n",
    "\n",
    "- Load the json file store here : `s3a://nrandriamanana/diffusion/formation/data/tweets/tweets20220414-090219.jsonl.gz` and name you data frame `df_tweet`\n",
    "\n",
    "  <small> ⚙️ This file is an a `JSONL` (JSON-line) format, which means that each line of it is a JSON object. A JSON object is just a Python dictionary or a JavaScript object and looks like this: `{ key1: value1, key2: [\"array\", \"of\", \"many values]}`). This file has been compressed into a `GZ` archive, hence the `.jsonl.gz` ending. Also this file is not magically appearing in your S3 storage. It is hosted on one of your teacher's bucket and has been made public, so that you can access it.</small>\n",
    "\n",
    "- It's possible to load multiple file in a unique DataFrame. It's useful when you have daily files and want to process them all. It's the same syntax as the previous one, just specify a folder. Like `s3a://nrandriamanana/diffusion/formation/data/tweets/`. Name you DataFrame `df_tweet_big`"
   ]
  },
  {
   "cell_type": "markdown",
   "id": "894e24f1",
   "metadata": {},
   "source": [
    "Just after you manage to load your file, check out your terminal again and you'll see Pod popping. The more your code requires resources, the more Spark will create Pods"
   ]
  },
  {
   "cell_type": "code",
   "execution_count": 20,
   "id": "preliminary-criminal",
   "metadata": {},
   "outputs": [
    {
     "name": "stderr",
     "output_type": "stream",
     "text": [
      "2022-07-13 13:43:11,566 WARN execution.CacheManager: Asked to cache already cached data.\n",
      "2022-07-13 13:43:11,566 WARN execution.CacheManager: Asked to cache already cached data.\n"
     ]
    },
    {
     "data": {
      "text/plain": [
       "DataFrame[data: struct<author_id:string,created_at:string,entities:struct<annotations:array<struct<end:bigint,normalized_text:string,probability:double,start:bigint,type:string>>,cashtags:array<struct<end:bigint,start:bigint,tag:string>>,hashtags:array<struct<end:bigint,start:bigint,tag:string>>,mentions:array<struct<end:bigint,id:string,start:bigint,username:string>>,urls:array<struct<description:string,display_url:string,end:bigint,expanded_url:string,images:array<struct<height:bigint,url:string,width:bigint>>,start:bigint,status:bigint,title:string,unwound_url:string,url:string>>>,id:string,lang:string,possibly_sensitive:boolean,public_metrics:struct<like_count:bigint,quote_count:bigint,reply_count:bigint,retweet_count:bigint>,source:string,text:string,withheld:struct<copyright:boolean,country_codes:array<string>>>, includes: struct<users:array<struct<created_at:string,id:string,name:string,username:string,verified:boolean,withheld:struct<country_codes:array<string>>>>>]"
      ]
     },
     "execution_count": 20,
     "metadata": {},
     "output_type": "execute_result"
    }
   ],
   "source": [
    "# DataFrame creation\n",
    "df_tweet = \n",
    "df_tweet_big = \n",
    "\n",
    "# caching\n",
    "df_tweet.cache()\n",
    "df_tweet_big.cache()"
   ]
  },
  {
   "cell_type": "code",
   "execution_count": null,
   "id": "15b1865a",
   "metadata": {},
   "outputs": [],
   "source": [
    "#Solution\n",
    "%load -r 1-7 solutions.py"
   ]
  },
  {
   "cell_type": "markdown",
   "id": "8487739f",
   "metadata": {},
   "source": [
    "## 🥉Data frame basic manipulations\n",
    "\n",
    "If DataFrames are immutable, they can however be **_transformed_** in other DataFrames, in the sense that a modified copy is returned. Such **transformations** include: filtering, sampling, dropping columns, selecting columns, adding new columns...\n",
    "\n",
    "First, you can get information about the columns with:\n",
    "\n",
    "```python\n",
    "df.columns       # get the column names\n",
    "df.schema        # get the column names and their respective type\n",
    "df.printSchema() # same, but human-readable\n",
    "```\n",
    "\n",
    "You can select columns with the `select()` method. It takes as argument a list of column name. For example :\n",
    "\n",
    "```python\n",
    "df_with_less_columns = df\\\n",
    "  .select(\"variable3\",\"variable_four\",\"variable-6\")\n",
    "\n",
    "# Yes, you do need the ugly \\ at the end of the line,\n",
    "# if you want to chain methods between lines in Python\n",
    "```\n",
    "\n",
    "You can get nested columns easily with :\n",
    "\n",
    "```python\n",
    "df.select(\"parentField.nestedField\")\n",
    "```\n",
    "\n",
    "To filter data you could use the `filter()` method. It take as input an expression that gets evaluated for each observation and should return a boolean. Sampling is performed with the `sample()` method. For example :\n",
    "\n",
    "```python\n",
    "df_with_less_rows = df\\\n",
    "  .sample(fraction=0.001)\\\n",
    "  .filter(df.variable1==\"value\")\\\n",
    "  .show(10)\n",
    "```\n",
    "\n",
    "As said before your data are distributed over multiple nodes (executors) and data inside a node are split into partitions. Then each transformations will be run in parallel. They are called *narrow transformation* For example, to sample a DataFrame, Spark sample every partitions in parallel because sample all partition produce the sample DataFrame. For some transformations, like `groupBy()` it's impossible, and it's cannot be run in parallel.\n",
    "\n",
    "![](https://raw.githubusercontent.com/HealerMikado/panorama_big_data_2021/main/labs/lab%202%20-%20first%20steps%20with%20Spark/img/spark_exemple1_pipeline.png)\n",
    "\n",
    "<!-- take() collect() limit() first() show() -->\n",
    "<!-- lien vers la doc https://spark.apache.org/docs/3.1.1/api/python/reference/pyspark.sql.html#dataframe-apis -->"
   ]
  },
  {
   "cell_type": "markdown",
   "id": "tribal-spencer",
   "metadata": {},
   "source": [
    "### 😴Lazy evaluation\n",
    "\n",
    "This is because Spark has what is known as **lazy evaluation**, in the sense that it will wait as much as it can before performing the actual computation. Said otherwise, when you run an instruction such as:\n",
    "\n",
    "```python\n",
    "tweet_author_hashtags = df_tweet_big.select(\"auteur\",\"hashtags\")\n",
    "```\n",
    "\n",
    "... you are not executing anything! Rather, you are building an **execution plan**, to be realised later.\n",
    "\n",
    "Spark is quite extreme in its laziness, since only a handful of methods called **actions**, by opposition to **transformations**, will trigger an execution. The most notable are:\n",
    "\n",
    "1. `collect()`, explicitly asking Spark to fetch the resulting rows instead of to lazily wait for more instructions,\n",
    "2. `take(n)`, asking for `n` first rows\n",
    "3. `first()`, an alias for `take(1)`\n",
    "4. `show()` and `show(n)`, human-friendly alternatives[^5]\n",
    "5. `count()`, asking for the numbers of rows\n",
    "6. all the \"write\" methods (write on file, write to database), see [here](https://spark.apache.org/docs/3.1.1/api/python/reference/pyspark.sql.html#input-and-output) for the list\n",
    "\n",
    "[^5]: `first()` is exactly `take(1)` ([ref]( https://stackoverflow.com/questions/37495039/difference-between-spark-rdds-take1-and-first)) and show prints the result instead of returning it as a list of rows ([ref](https://stackoverflow.com/questions/53884994/what-is-the-difference-between-dataframe-show-and-dataframe-take-in-spark-t))\n",
    "\n",
    "**This has advantages:** on huge data, you don't want to accidently perform a computation that is not needed. Also, Spark can optimize each **stage** of the execution in regard to what comes next. For instance, filters will be executed as early as possible, since it diminishes the number of rows on which to perform later operations. On the contrary, joins are very computation-intense and will be executed as late as possible. The resulting **execution plan** consists in a **directed acyclic graph** (DAG) that contains the tree of all required actions for a specific computation, ordered in the most effective fashion.\n",
    "\n",
    "**This has also drawbacks.** Since the computation is optimized for the end result, the intermediate stages are discarded by default. So if you need a DataFrame multiple times, you have to cache it in memory because if you don't Spark will recompute it every single time. \n",
    "\n",
    "---\n",
    "\n",
    "### ✍Hands-on 2 - Data frame basic manipulations\n",
    "\n",
    "- How many rows have your two DataFrame ?"
   ]
  },
  {
   "cell_type": "markdown",
   "id": "single-advertising",
   "metadata": {},
   "source": [
    "Printing schema and some rows"
   ]
  },
  {
   "cell_type": "code",
   "execution_count": 7,
   "id": "unnecessary-quarter",
   "metadata": {},
   "outputs": [
    {
     "name": "stderr",
     "output_type": "stream",
     "text": [
      "                                                                                \r"
     ]
    },
    {
     "name": "stdout",
     "output_type": "stream",
     "text": [
      "+--------------------+--------------------+\n",
      "|                data|            includes|\n",
      "+--------------------+--------------------+\n",
      "|{1037039682822070...|{[{2018-09-04T18:...|\n",
      "|{1391192446613160...|{[{2021-05-09T00:...|\n",
      "|{3498010513, 2022...|{[{2015-09-08T23:...|\n",
      "|{1203504398321647...|{[{2019-12-08T02:...|\n",
      "|{3111644864, 2022...|{[{2015-03-27T20:...|\n",
      "+--------------------+--------------------+\n",
      "only showing top 5 rows\n",
      "\n",
      "root\n",
      " |-- data: struct (nullable = true)\n",
      " |    |-- author_id: string (nullable = true)\n",
      " |    |-- created_at: string (nullable = true)\n",
      " |    |-- entities: struct (nullable = true)\n",
      " |    |    |-- annotations: array (nullable = true)\n",
      " |    |    |    |-- element: struct (containsNull = true)\n",
      " |    |    |    |    |-- end: long (nullable = true)\n",
      " |    |    |    |    |-- normalized_text: string (nullable = true)\n",
      " |    |    |    |    |-- probability: double (nullable = true)\n",
      " |    |    |    |    |-- start: long (nullable = true)\n",
      " |    |    |    |    |-- type: string (nullable = true)\n",
      " |    |    |-- cashtags: array (nullable = true)\n",
      " |    |    |    |-- element: struct (containsNull = true)\n",
      " |    |    |    |    |-- end: long (nullable = true)\n",
      " |    |    |    |    |-- start: long (nullable = true)\n",
      " |    |    |    |    |-- tag: string (nullable = true)\n",
      " |    |    |-- hashtags: array (nullable = true)\n",
      " |    |    |    |-- element: struct (containsNull = true)\n",
      " |    |    |    |    |-- end: long (nullable = true)\n",
      " |    |    |    |    |-- start: long (nullable = true)\n",
      " |    |    |    |    |-- tag: string (nullable = true)\n",
      " |    |    |-- mentions: array (nullable = true)\n",
      " |    |    |    |-- element: struct (containsNull = true)\n",
      " |    |    |    |    |-- end: long (nullable = true)\n",
      " |    |    |    |    |-- id: string (nullable = true)\n",
      " |    |    |    |    |-- start: long (nullable = true)\n",
      " |    |    |    |    |-- username: string (nullable = true)\n",
      " |    |    |-- urls: array (nullable = true)\n",
      " |    |    |    |-- element: struct (containsNull = true)\n",
      " |    |    |    |    |-- description: string (nullable = true)\n",
      " |    |    |    |    |-- display_url: string (nullable = true)\n",
      " |    |    |    |    |-- end: long (nullable = true)\n",
      " |    |    |    |    |-- expanded_url: string (nullable = true)\n",
      " |    |    |    |    |-- images: array (nullable = true)\n",
      " |    |    |    |    |    |-- element: struct (containsNull = true)\n",
      " |    |    |    |    |    |    |-- height: long (nullable = true)\n",
      " |    |    |    |    |    |    |-- url: string (nullable = true)\n",
      " |    |    |    |    |    |    |-- width: long (nullable = true)\n",
      " |    |    |    |    |-- start: long (nullable = true)\n",
      " |    |    |    |    |-- status: long (nullable = true)\n",
      " |    |    |    |    |-- title: string (nullable = true)\n",
      " |    |    |    |    |-- unwound_url: string (nullable = true)\n",
      " |    |    |    |    |-- url: string (nullable = true)\n",
      " |    |-- id: string (nullable = true)\n",
      " |    |-- lang: string (nullable = true)\n",
      " |    |-- possibly_sensitive: boolean (nullable = true)\n",
      " |    |-- public_metrics: struct (nullable = true)\n",
      " |    |    |-- like_count: long (nullable = true)\n",
      " |    |    |-- quote_count: long (nullable = true)\n",
      " |    |    |-- reply_count: long (nullable = true)\n",
      " |    |    |-- retweet_count: long (nullable = true)\n",
      " |    |-- source: string (nullable = true)\n",
      " |    |-- text: string (nullable = true)\n",
      " |    |-- withheld: struct (nullable = true)\n",
      " |    |    |-- copyright: boolean (nullable = true)\n",
      " |    |    |-- country_codes: array (nullable = true)\n",
      " |    |    |    |-- element: string (containsNull = true)\n",
      " |-- includes: struct (nullable = true)\n",
      " |    |-- users: array (nullable = true)\n",
      " |    |    |-- element: struct (containsNull = true)\n",
      " |    |    |    |-- created_at: string (nullable = true)\n",
      " |    |    |    |-- id: string (nullable = true)\n",
      " |    |    |    |-- name: string (nullable = true)\n",
      " |    |    |    |-- username: string (nullable = true)\n",
      " |    |    |    |-- verified: boolean (nullable = true)\n",
      " |    |    |    |-- withheld: struct (nullable = true)\n",
      " |    |    |    |    |-- country_codes: array (nullable = true)\n",
      " |    |    |    |    |    |-- element: string (containsNull = true)\n",
      "\n"
     ]
    },
    {
     "name": "stderr",
     "output_type": "stream",
     "text": [
      "[Stage 4:>                                                          (0 + 1) / 1]\r"
     ]
    },
    {
     "name": "stdout",
     "output_type": "stream",
     "text": [
      "+--------------------+--------------------+\n",
      "|                data|            includes|\n",
      "+--------------------+--------------------+\n",
      "|{8566371157357076...|{[{2017-04-24T22:...|\n",
      "|{1100882149060812...|{[{2019-02-27T22:...|\n",
      "|{1647610112, 2022...|{[{2013-08-05T11:...|\n",
      "|{1227057358683066...|{[{2020-02-11T02:...|\n",
      "|{287239880, 2022-...|{[{2011-04-24T16:...|\n",
      "+--------------------+--------------------+\n",
      "only showing top 5 rows\n",
      "\n",
      "root\n",
      " |-- data: struct (nullable = true)\n",
      " |    |-- author_id: string (nullable = true)\n",
      " |    |-- created_at: string (nullable = true)\n",
      " |    |-- entities: struct (nullable = true)\n",
      " |    |    |-- annotations: array (nullable = true)\n",
      " |    |    |    |-- element: struct (containsNull = true)\n",
      " |    |    |    |    |-- end: long (nullable = true)\n",
      " |    |    |    |    |-- normalized_text: string (nullable = true)\n",
      " |    |    |    |    |-- probability: double (nullable = true)\n",
      " |    |    |    |    |-- start: long (nullable = true)\n",
      " |    |    |    |    |-- type: string (nullable = true)\n",
      " |    |    |-- cashtags: array (nullable = true)\n",
      " |    |    |    |-- element: struct (containsNull = true)\n",
      " |    |    |    |    |-- end: long (nullable = true)\n",
      " |    |    |    |    |-- start: long (nullable = true)\n",
      " |    |    |    |    |-- tag: string (nullable = true)\n",
      " |    |    |-- hashtags: array (nullable = true)\n",
      " |    |    |    |-- element: struct (containsNull = true)\n",
      " |    |    |    |    |-- end: long (nullable = true)\n",
      " |    |    |    |    |-- start: long (nullable = true)\n",
      " |    |    |    |    |-- tag: string (nullable = true)\n",
      " |    |    |-- mentions: array (nullable = true)\n",
      " |    |    |    |-- element: struct (containsNull = true)\n",
      " |    |    |    |    |-- end: long (nullable = true)\n",
      " |    |    |    |    |-- id: string (nullable = true)\n",
      " |    |    |    |    |-- start: long (nullable = true)\n",
      " |    |    |    |    |-- username: string (nullable = true)\n",
      " |    |    |-- urls: array (nullable = true)\n",
      " |    |    |    |-- element: struct (containsNull = true)\n",
      " |    |    |    |    |-- description: string (nullable = true)\n",
      " |    |    |    |    |-- display_url: string (nullable = true)\n",
      " |    |    |    |    |-- end: long (nullable = true)\n",
      " |    |    |    |    |-- expanded_url: string (nullable = true)\n",
      " |    |    |    |    |-- images: array (nullable = true)\n",
      " |    |    |    |    |    |-- element: struct (containsNull = true)\n",
      " |    |    |    |    |    |    |-- height: long (nullable = true)\n",
      " |    |    |    |    |    |    |-- url: string (nullable = true)\n",
      " |    |    |    |    |    |    |-- width: long (nullable = true)\n",
      " |    |    |    |    |-- start: long (nullable = true)\n",
      " |    |    |    |    |-- status: long (nullable = true)\n",
      " |    |    |    |    |-- title: string (nullable = true)\n",
      " |    |    |    |    |-- unwound_url: string (nullable = true)\n",
      " |    |    |    |    |-- url: string (nullable = true)\n",
      " |    |-- id: string (nullable = true)\n",
      " |    |-- lang: string (nullable = true)\n",
      " |    |-- possibly_sensitive: boolean (nullable = true)\n",
      " |    |-- public_metrics: struct (nullable = true)\n",
      " |    |    |-- like_count: long (nullable = true)\n",
      " |    |    |-- quote_count: long (nullable = true)\n",
      " |    |    |-- reply_count: long (nullable = true)\n",
      " |    |    |-- retweet_count: long (nullable = true)\n",
      " |    |-- source: string (nullable = true)\n",
      " |    |-- text: string (nullable = true)\n",
      " |    |-- withheld: struct (nullable = true)\n",
      " |    |    |-- copyright: boolean (nullable = true)\n",
      " |    |    |-- country_codes: array (nullable = true)\n",
      " |    |    |    |-- element: string (containsNull = true)\n",
      " |-- includes: struct (nullable = true)\n",
      " |    |-- users: array (nullable = true)\n",
      " |    |    |-- element: struct (containsNull = true)\n",
      " |    |    |    |-- created_at: string (nullable = true)\n",
      " |    |    |    |-- id: string (nullable = true)\n",
      " |    |    |    |-- name: string (nullable = true)\n",
      " |    |    |    |-- username: string (nullable = true)\n",
      " |    |    |    |-- verified: boolean (nullable = true)\n",
      " |    |    |    |-- withheld: struct (nullable = true)\n",
      " |    |    |    |    |-- country_codes: array (nullable = true)\n",
      " |    |    |    |    |    |-- element: string (containsNull = true)\n",
      "\n"
     ]
    },
    {
     "name": "stderr",
     "output_type": "stream",
     "text": [
      "                                                                                \r"
     ]
    }
   ],
   "source": [
    "df_tweet.[some action](5)\n",
    "df_tweet.=[some action]()\n",
    "df_tweet_big.[some action](5)\n",
    "df_tweet_big.[some action]()\n"
   ]
  },
  {
   "cell_type": "code",
   "execution_count": null,
   "id": "1ed83d28",
   "metadata": {},
   "outputs": [],
   "source": [
    "%load -r 9-12 solutions.py"
   ]
  },
  {
   "cell_type": "code",
   "execution_count": 9,
   "id": "strong-level",
   "metadata": {},
   "outputs": [
    {
     "name": "stdout",
     "output_type": "stream",
     "text": [
      "the small DF has 10000 rows\n",
      "the big DF has 710000 rows\n"
     ]
    }
   ],
   "source": [
    "print(f'the small DF has {df_tweet.[some action]()} rows')\n",
    "print(f'the big DF has {df_tweet_big.[some action]()} rows')"
   ]
  },
  {
   "cell_type": "code",
   "execution_count": null,
   "id": "9a8edc62",
   "metadata": {},
   "outputs": [],
   "source": [
    "%load -r 14-15 solutions.py"
   ]
  },
  {
   "cell_type": "markdown",
   "id": "signal-weather",
   "metadata": {},
   "source": [
    "- Sample `df_tweet_big` and keep only 10% of it. Create a new DataFrame named `df_tweet_sampled`. If computations take too long on the full DataFrame, use this one instead or add a sample transformation in your expression. "
   ]
  },
  {
   "cell_type": "code",
   "execution_count": null,
   "id": "egyptian-agreement",
   "metadata": {},
   "outputs": [],
   "source": [
    "df_tweet_sampled = "
   ]
  },
  {
   "cell_type": "code",
   "execution_count": null,
   "id": "e0eb1feb",
   "metadata": {},
   "outputs": [],
   "source": [
    "%load -r 17-17 solutions.py"
   ]
  },
  {
   "cell_type": "markdown",
   "id": "operating-great",
   "metadata": {},
   "source": [
    "- Define a DataFrame `tweet_author_hashtags`  with only the `auteur` and `hashtags` columns"
   ]
  },
  {
   "cell_type": "code",
   "execution_count": null,
   "id": "varying-lucas",
   "metadata": {},
   "outputs": [],
   "source": [
    "tweet_author_hashtags = \n",
    "tweet_author_hashtags.[some action](5)"
   ]
  },
  {
   "cell_type": "code",
   "execution_count": null,
   "id": "75eb702d",
   "metadata": {},
   "outputs": [],
   "source": [
    "%load -r 19-20 solutions.py"
   ]
  },
  {
   "cell_type": "markdown",
   "id": "popular-anime",
   "metadata": {},
   "source": [
    "- Print (few lines of) a DataFrame with only the `auteur`, `mentions`, and `urls` columns. (`mentions` and `urls` are both nested columns in `entities`.)"
   ]
  },
  {
   "cell_type": "code",
   "execution_count": null,
   "id": "ahead-victoria",
   "metadata": {},
   "outputs": [],
   "source": []
  },
  {
   "cell_type": "code",
   "execution_count": null,
   "id": "e0ad1ec7",
   "metadata": {},
   "outputs": [],
   "source": [
    "%load -r 22-22 solutions.py"
   ]
  },
  {
   "cell_type": "markdown",
   "id": "monetary-calculation",
   "metadata": {},
   "source": [
    "- Filter your first DataFrame and keep only tweets with more than 1 like. Give a name for this new, transformed DataFrame and print. Print (few lines of) it."
   ]
  },
  {
   "cell_type": "code",
   "execution_count": null,
   "id": "declared-expression",
   "metadata": {},
   "outputs": [],
   "source": []
  },
  {
   "cell_type": "code",
   "execution_count": null,
   "id": "73fcd700",
   "metadata": {},
   "outputs": [],
   "source": [
    "%load -r 24-24 solutions.pyb"
   ]
  },
  {
   "cell_type": "markdown",
   "id": "intelligent-wagon",
   "metadata": {},
   "source": [
    "## 🥈Basic DataFrame column manipulation \n",
    "\n",
    "You can add/update/rename column of a DataFrame with spark :\n",
    "\n",
    "- Drop : `df.drop(columnName : str )`\n",
    "- Rename : `df.withColumnRenamed(oldName : str, newName : str)`\n",
    "- Add/update : `df.withColumn(columnName : str, columnExpression)` \n",
    "\n",
    "For example\n",
    "\n",
    "```python\n",
    "tweet_df_with_like_rt_ratio = tweet_df\\\n",
    "  .withColumn(        # computes new variable\n",
    "    \"like_rt_ratio\", # like_rt_ratio \"OVERCONFIDENCE\"\n",
    "    (tweet_df.like_count /flights.retweet_count\n",
    "   )\n",
    "\n",
    "```\n",
    "\n",
    "See [here](https://spark.apache.org/docs/3.1.1/api/python/reference/pyspark.sql.html#functions) for the list of all functions available in an expression.\n",
    "\n",
    "### ✍Hands-on 3 - Basic DataFrame column manipulation  \n",
    "\n",
    "- Define a DataFrame with a column names `interaction_count`. This column is the sum of `like_count`, `reply_count` and `retweet_count`."
   ]
  },
  {
   "cell_type": "code",
   "execution_count": null,
   "id": "naughty-mixer",
   "metadata": {},
   "outputs": [],
   "source": []
  },
  {
   "cell_type": "code",
   "execution_count": null,
   "id": "3cfa701a",
   "metadata": {},
   "outputs": [],
   "source": [
    "%load -r 26-27 solutions.py"
   ]
  },
  {
   "cell_type": "markdown",
   "id": "aerial-textbook",
   "metadata": {},
   "source": [
    "- Update the DataFrame you imported at the beginning of this lab and drop the `other` column"
   ]
  },
  {
   "cell_type": "code",
   "execution_count": null,
   "id": "recent-state",
   "metadata": {},
   "outputs": [],
   "source": []
  },
  {
   "cell_type": "code",
   "execution_count": null,
   "id": "d4d537af",
   "metadata": {},
   "outputs": [],
   "source": [
    "%load -r 29-29 solutions.py"
   ]
  },
  {
   "cell_type": "markdown",
   "id": "biblical-involvement",
   "metadata": {},
   "source": [
    "## 🥇Advance DataFrame column manipulation \n",
    "\n",
    "### 🥽Array manipulation\n",
    "\n",
    "Some columns often contain arrays (lists) of values instead of just one value. This may seem surprising but this actually quite natural. For instance, you may create an array of words from a text, or generate a list of random numbers for each observation, etc.\n",
    "\n",
    "You may **create array of values** with:\n",
    "\n",
    "- `split(text : string, delimiter : string)`, turning a text into an array of strings\n",
    "\n",
    "You may **use array of values** with:\n",
    "\n",
    "- `size(array : Array)`, getting the number of elements\n",
    "\n",
    "- `array_contains(inputArray : Array, value : any)`, checking if some value appears\n",
    "\n",
    "- `explode(array : Array)`, unnesting an array and duplicating other values. For instance it if use `explode()` over the hashtags value of this DataFrame:\n",
    "\n",
    "  | Auteur | Contenu                             | Hashtags         |\n",
    "  | ------ | ----------------------------------- | ---------------- |\n",
    "  | Bob    | I love #Spark and #bigdata          | [Spark, bigdata] |\n",
    "  | Alice  | Just finished #MHrise, best MH ever | [MHrise]         |\n",
    "\n",
    "  I will get :\n",
    "\n",
    "  | Auteur | Contenu                             | Hashtags         | Hashtag |\n",
    "  | ------ | ----------------------------------- | ---------------- | ------- |\n",
    "  | Bob    | I love #Spark and #bigdata          | [Spark, bigdata] | Spark   |\n",
    "  | Bob    | I love #Spark and #bigdata          | [Spark, bigdata] | bigdata |\n",
    "  | Alice  | Just finished #MHrise, best MH ever | [MHrise]         | MHrise  |\n",
    "\n",
    "  \n",
    "\n",
    "All this function must be imported first :\n",
    "\n",
    "```python\n",
    "from pyspark.sql.functions import split, explode, size, array_contains\n",
    "```\n",
    "\n",
    "Do not forget, to create a new column, you should use `withColumn()`. For example : \n",
    "\n",
    "```python\n",
    "df.withColumn(\"new column\", explode(\"array\"))\n",
    "```\n",
    "\n",
    "#### ✍Hands-on 4 - Array manipulation \n",
    "\n",
    "- Keep all the tweets with hashtags and for each remaining line, split the hashtag text into an array of hashtags"
   ]
  },
  {
   "cell_type": "code",
   "execution_count": null,
   "id": "residential-uncertainty",
   "metadata": {},
   "outputs": [],
   "source": [
    "from pyspark.sql.functions import split, explode, size, array_contains"
   ]
  },
  {
   "cell_type": "code",
   "execution_count": null,
   "id": "chicken-reproduction",
   "metadata": {},
   "outputs": [],
   "source": []
  },
  {
   "cell_type": "code",
   "execution_count": null,
   "id": "1151a067",
   "metadata": {},
   "outputs": [],
   "source": [
    "%load -r 31-31 solutions.py"
   ]
  },
  {
   "cell_type": "markdown",
   "id": "classified-message",
   "metadata": {},
   "source": [
    "- Create a new column with the number of words of the `contenu` column. (Use `split()` + `size()`)"
   ]
  },
  {
   "cell_type": "code",
   "execution_count": null,
   "id": "useful-printer",
   "metadata": {},
   "outputs": [],
   "source": []
  },
  {
   "cell_type": "code",
   "execution_count": null,
   "id": "3e52d0f0",
   "metadata": {},
   "outputs": [],
   "source": [
    "%load -r 33-33 solutions.py"
   ]
  },
  {
   "cell_type": "markdown",
   "id": "apparent-silly",
   "metadata": {},
   "source": [
    "- Count how many tweet contain the `covid19` hashtag (use the `count()` action)"
   ]
  },
  {
   "cell_type": "code",
   "execution_count": null,
   "id": "democratic-rapid",
   "metadata": {},
   "outputs": [],
   "source": []
  },
  {
   "cell_type": "code",
   "execution_count": null,
   "id": "389f59f3",
   "metadata": {},
   "outputs": [],
   "source": [
    "%load -r 35-35 solutions.py"
   ]
  },
  {
   "cell_type": "markdown",
   "id": "adequate-seeker",
   "metadata": {},
   "source": [
    "### 🥼User defined function\n",
    "\n",
    "For more very specific column manipulation you will need Spark's `udf()` function (*User Defined Function*). It can be useful if you Spark does not provide a feature you want. But Spark is a popular and active project, so before coding an udf, go check the documentation. For instance for natural language processing, Spark already has some [functions](https://spark.apache.org/docs/3.1.1/api/python/reference/api/pyspark.ml.feature.Tokenizer.html#pyspark.ml.feature.Tokenizer). Last things, python udf can lead to performance issues (see https://stackoverflow.com/a/38297050) and learning a little bit of scala or java can be a good idea.\n",
    "\n",
    "For example :\n",
    "\n",
    "```python\n",
    "# !!!! DOES NOT WORK !!!!\n",
    "def to_lower_case(string):\n",
    "\treturn string.lower()\n",
    "\t\n",
    "df.withColumn(\"tweet_lower_case\", to_lower_case(df.contenu))\n",
    "```\n",
    "\n",
    "will just crash. Keep in mind that Spark is a distributed system, and that Python is only installed on the central node, as a convenience to let you execute instructions on the executor nodes. But by default, pure Python functions can only be executed where Python is installed! We need `udf()` to enable Spark to send Python instructions to the worker nodes.\n",
    "\n",
    "Let us see how it is done :\n",
    "\n",
    "```python\n",
    "# imports\n",
    "from pyspark.sql.functions import udf\n",
    "from pyspark.sql.functions import explode\n",
    "from pyspark.sql.types import StringType\n",
    "\n",
    "# pure python functions\n",
    "def to_lower_case(string):\n",
    "    return string.lower()\n",
    "\n",
    "# user definid function\n",
    "to_lower_case_udf = udf(\n",
    "    lambda x: to_lower_case(x), StringType()\n",
    ") #we use a lambda function to create the udf.\n",
    "\n",
    "# df manipulation\n",
    "df_tweet_small\\\n",
    "  .select(\"auteur\",\"hashtags\")\\\n",
    "  .filter(\"size(hashtags)!=0\")\\\n",
    "  .withColumn(\"hashtag\", explode(\"hashtags\"))\\\n",
    "  .withColumn(\"hashtag\", to_lower_case_udf(\"hashtag\")).show(10)\n",
    "```\n",
    "\n",
    "---\n",
    "\n",
    "#### ✍Hands-on 5 - User defined function \n",
    "\n",
    "- Create an user defined function that counts how many words a tweet contains. (your function will return an `IntegerType` and not a `StringType`)"
   ]
  },
  {
   "cell_type": "code",
   "execution_count": null,
   "id": "respective-combination",
   "metadata": {},
   "outputs": [],
   "source": [
    "# imports\n",
    "from pyspark.sql.functions import udf\n",
    "from pyspark.sql.types import IntegerType\n",
    "\n",
    "# pure python functions\n",
    "def word_count(string):\n",
    "    return ...\n",
    "\n",
    "# user definid function\n",
    "word_count_udf = udf(\n",
    "    lambda x: word_count(x), IntegerType()\n",
    ") #we use a lambda function to create the udf.\n",
    "\n",
    "# df manipulation\n",
    "df_tweet_big\\\n",
    "  .withColumn(\"word_count\", word_count_udf(\"contenu\")).show(10)"
   ]
  },
  {
   "cell_type": "code",
   "execution_count": null,
   "id": "76868853",
   "metadata": {},
   "outputs": [],
   "source": [
    "%load -r 37-48 solutions.py"
   ]
  },
  {
   "cell_type": "markdown",
   "id": "affiliated-reset",
   "metadata": {},
   "source": [
    "## 🔩Aggregation functions\n",
    "\n",
    "Spark offer a variety of aggregation functions :\n",
    "\n",
    "- `count(column : string)` will count every not null value of the specify column. You cant use `count(1)` of `count(\"*\")` to count every line (even row with only null values)\n",
    "\n",
    "- `countDisctinct(column : string)` and `approx_count_distinct(column : string, percent_error: float)`. If the exact number is irrelevant, `approx_count_distinct()`should be preferred.\n",
    "\n",
    "  Counting distinct elements cannot be done in parallel, and need a lot data transfer. But if you only need an approximation, there is a algorithm, named hyper-log-log (more info [here](https://databricks.com/fr/blog/2016/05/19/approximate-algorithms-in-apache-spark-hyperloglog-and-quantiles.html)) that can be parallelized. \n",
    "\n",
    "  ```python\n",
    "  from pyspark.sql.functions import count, countDistinct, approx_count_distinct\n",
    "  \n",
    "  df.select(count(\"col1\")).show()\n",
    "  df.select(countDistinct(\"col1\")).show()\n",
    "  df.select(approx_count_distinct(\"col1\"), 0.1).show()\n",
    "  ```\n",
    "\n",
    "- You have access to all other common functions `min()`, `max()`, `first()`, `last()`, `sum()`, `sumDistinct()`, `avg()` etc (you should import them first `from pyspark.sql.functions import min, max, avg, first, last, sum, sumDistinct`) \n",
    "\n",
    "---\n",
    "\n",
    "### ✍Hands-on 6 - Aggregation functions\n",
    "\n",
    "- What are the min, max, average of `interaction_count`"
   ]
  },
  {
   "cell_type": "code",
   "execution_count": null,
   "id": "through-liabilities",
   "metadata": {},
   "outputs": [],
   "source": [
    "from pyspark.sql.functions import min, max, avg, first, last, sum, sumDistinct"
   ]
  },
  {
   "cell_type": "code",
   "execution_count": null,
   "id": "forced-kitty",
   "metadata": {},
   "outputs": [],
   "source": []
  },
  {
   "cell_type": "code",
   "execution_count": null,
   "id": "4224ff6d",
   "metadata": {},
   "outputs": [],
   "source": [
    "%load -r 50-50 solutions.py"
   ]
  },
  {
   "cell_type": "markdown",
   "id": "jewish-invite",
   "metadata": {},
   "source": [
    "- How many tweets have hashtags ? Distinct hashtags ? Try the approximative count with 0.1 and 0.01as maximum estimation error allowed."
   ]
  },
  {
   "cell_type": "code",
   "execution_count": null,
   "id": "armed-bhutan",
   "metadata": {},
   "outputs": [],
   "source": [
    "from pyspark.sql.functions import count, countDistinct, approx_count_distinct"
   ]
  },
  {
   "cell_type": "code",
   "execution_count": null,
   "id": "automotive-width",
   "metadata": {},
   "outputs": [],
   "source": []
  },
  {
   "cell_type": "code",
   "execution_count": null,
   "id": "217416c0",
   "metadata": {},
   "outputs": [],
   "source": [
    "%load -r 52-52 solutions.py"
   ]
  },
  {
   "cell_type": "markdown",
   "id": "rolled-enlargement",
   "metadata": {},
   "source": [
    "## Grouping functions\n",
    "\n",
    "Like SQL you can group row by a criteria with Spark. Just use the `groupBy(column : string)` method. Then you can compute some aggregation over those groups.\n",
    "\n",
    "```python\n",
    "df.groupBy(\"col1\").agg(\n",
    "  count(\"col2\").alias(\"quantity\") # alias is use to specify the name of the new column\n",
    ").show() \n",
    "```\n",
    "\n",
    "The `agg()` method can take multiples argument to compute multiple aggregation at once.\n",
    "\n",
    "```python\n",
    "df.groupBy(\"col1\").agg(\n",
    "\tcount(\"col2\").alias(\"quantity\"), min(\"col2\").alias(\"min\"), avg(\"col3\").alias(\"avg3\") ).show()\n",
    "```\n",
    "\n",
    "Aggregation and grouping transformations work differently than the previous method like `filter()`, `select()`, `withColumn()` etc. Those transformations cannot be run over each partitions in parallel, and need to transfer data between partitions and executors.  They are called \"wide transformations\"\n",
    "\n",
    "<img src=\"https://raw.githubusercontent.com/HealerMikado/panorama_big_data_2021/main/labs/lab%202%20-%20first%20steps%20with%20Spark/img/spark_exemple2_pipeline.png\" style=\"zoom:30%;\" />\n",
    "---\n",
    "\n",
    "### ✍Hands-on 7 - Grouping functions\n",
    "\n",
    "- Compute a daframe with the min, max and average retweet of each `auteur`. Then order it by the max number of retweet in descending order by . To do that you can use the following syntax\n",
    "\n",
    "  ```python\n",
    "  from pyspark.sql.functions import desc\n",
    "  df.orderBy(desc(\"col\"))\n",
    "  ```"
   ]
  },
  {
   "cell_type": "code",
   "execution_count": null,
   "id": "prescription-astrology",
   "metadata": {},
   "outputs": [],
   "source": []
  },
  {
   "cell_type": "code",
   "execution_count": null,
   "id": "6a446008",
   "metadata": {},
   "outputs": [],
   "source": [
    "%load -r 54-55 solutions.py"
   ]
  },
  {
   "cell_type": "markdown",
   "id": "secret-surveillance",
   "metadata": {},
   "source": [
    "## 🔌Spark SQL\n",
    "\n",
    "Spark understand SQL statement. It's not a hack nor a workaround to use SQL in Spark, it's one a the more powerful feature in Spark. To use SQL in you need :\n",
    "\n",
    "1. Register a view pointing to your DataFrame\n",
    "\n",
    "   ```python\n",
    "   my_df.createOrReplaceTempView(viewName : str)\n",
    "   ```\n",
    "\n",
    "2. Use the sql function\n",
    "\n",
    "   ```python\n",
    "   spark.sql(\"\"\"\n",
    "   You sql statment\n",
    "   \"\"\")\n",
    "   ```\n",
    "\n",
    "   You could manipulate every registered DataFrame by their view name with plain SQL.\n",
    "\n",
    "In fact you can do most of this tutorial without any knowledge in PySpark nor Spark. Lot of things can be done in Sparkk only by only knowing SQL and how to use it in Spark. \n",
    "\n",
    "### ✍Hands-on 8 - Spark SQL\n",
    "\n",
    "- How many tweets have hashtags ? Distinct hashtags ? "
   ]
  },
  {
   "cell_type": "code",
   "execution_count": null,
   "id": "technological-intervention",
   "metadata": {},
   "outputs": [],
   "source": []
  },
  {
   "cell_type": "code",
   "execution_count": null,
   "id": "2ebb4dcd",
   "metadata": {},
   "outputs": [],
   "source": [
    "%load -r 57-63 solutions.py"
   ]
  },
  {
   "cell_type": "markdown",
   "id": "animal-lindsay",
   "metadata": {},
   "source": [
    "- Compute a dataframe with the min, max and average retweet of each `auteur` using Spark SQL"
   ]
  },
  {
   "cell_type": "code",
   "execution_count": null,
   "id": "painful-variance",
   "metadata": {},
   "outputs": [],
   "source": []
  },
  {
   "cell_type": "code",
   "execution_count": null,
   "id": "c8ba0b52",
   "metadata": {},
   "outputs": [],
   "source": [
    "%load -r 65-71 solutions.py"
   ]
  },
  {
   "cell_type": "markdown",
   "id": "metallic-appliance",
   "metadata": {},
   "source": [
    "## Joins in Spark\n",
    "\n",
    "Like a SQL, Spark can join two dataset  by comparing the value of one or more keys using joins. Joins are by nature wide transformation, so data will be transferred between executors and will take time. But Spark will distinct two cases :\n",
    "\n",
    "- Big table to big table join\n",
    "- Big table to small table join\n",
    "- (The case small table to small table is irrelevant for big data)\n",
    "\n",
    "And optimize the join according to the actual case. (For more information Spark: The Definitive Guide pages 148 - 151)\n",
    "\n",
    "Doing a join is pretty easy. You need :\n",
    "\n",
    "- At least two DataFrames (obviously) with columns with the same keys\n",
    "- a join expression\n",
    "- the join transformation\n",
    "\n",
    "For instance :\n",
    "\n",
    "```python\n",
    "# Creation of 3 small DF\n",
    "person=spark.createDataFrame([\n",
    "    (0,\"Bill Chambers\",0,[100])\n",
    "    ,(1,\"Matei Zaharia\",1,[500,250,100])\n",
    "    ,(2,\"Michael Armbrust\",1,[250,100])])\\\n",
    "\t.toDF(\"id\",\"name\",\"graduate_program\",\"spark_status\")\n",
    "graduateProgram=spark.createDataFrame([\n",
    "    (0,\"Masters\",\"School of Information\",\"UC Berkeley\")\n",
    "    ,(2,\"Masters\",\"EECS\",\"UC Berkeley\"),(1,\"Ph.D.\",\"EECS\",\"UC Berkeley\")])\\\n",
    "\t.toDF(\"id\",\"degree\",\"department\",\"school\")\n",
    "sparkStatus=spark.createDataFrame([\n",
    "    (500,\"Vice President\")\n",
    "    ,(250,\"PMC Member\")\n",
    "    ,(100,\"Contributor\")])\\\n",
    "\t.toDF(\"id\",\"status\")\n",
    "    \n",
    "# A join expression\n",
    "joinExpression=person[\"graduate_program\"]==graduateProgram['id']\n",
    "\n",
    "# The join transformation in action\n",
    "person.join(graduateProgram, joinExpression).show()\n",
    "```\n",
    "\n",
    "By default Spark compute inner joins, but you can pass a third argument to the join transformation with its type. You can do :\n",
    "\n",
    "- Inner joins : by default or with the \"inner\" argument\n",
    "- Outer joins : \"outer\" argument\n",
    "- Left / right outer joins : \"left_outer\", \"right_outer\" argument\n",
    "- Left semi join : it's more a filter than a join. It only keep the row in the left DataFrame that have a match in the right DataFrame. Use he \"left_semi\" argument\n",
    "- Left anti join : The opposite of the previous one. Use he \"left_anti\" argument\n",
    "- You can do cross joins to, but it's a very bad idea to do so, so please don't !\n",
    "\n",
    "### ✍ Hands-on 9 - Joins in Spark\n",
    "\n",
    "- Import the files stored in `s3n://spark-lab-input-data-ensai20202021/users/` in a DataFrame  and its informations to your DataFrame. Filter your new DataFrame to only keep verified user (`verified == True`) and group by user and get the most active user of your DataFrame."
   ]
  },
  {
   "cell_type": "code",
   "execution_count": 25,
   "id": "acting-warrior",
   "metadata": {},
   "outputs": [],
   "source": [
    "from pyspark.sql.types import StructType,StructField, StringType, IntegerType, ArrayType, TimestampType, BooleanType\n",
    "schema = StructType([ \\\n",
    "    StructField(\"created_at\",TimestampType(),True), \\\n",
    "    StructField(\"id\",StringType(),True), \\\n",
    "    StructField(\"name\",StringType(),True), \\\n",
    "    StructField(\"username\", StringType(), True), \\\n",
    "    StructField(\"withheld\",StructType([ \n",
    "        StructField(\"country_codes\", ArrayType(StringType(),True)),\\\n",
    "        StructField(\"scope\", StringType(), True)  \\\n",
    "    ])),\n",
    "    StructField(\"verified\",BooleanType(),True)             \n",
    "  ])"
   ]
  },
  {
   "cell_type": "code",
   "execution_count": 26,
   "id": "requested-official",
   "metadata": {},
   "outputs": [
    {
     "name": "stderr",
     "output_type": "stream",
     "text": [
      "[Stage 49:===========>                                              (1 + 4) / 5]\r"
     ]
    },
    {
     "name": "stdout",
     "output_type": "stream",
     "text": [
      "+--------------------+-------------------+---------------------+--------------+--------+--------+\n",
      "|          created_at|                 id|                 name|      username|verified|withheld|\n",
      "+--------------------+-------------------+---------------------+--------------+--------+--------+\n",
      "|2017-06-12T04:24:...| 874120224055803904|            fengx2017|     fengx2017|   false|    null|\n",
      "|2012-05-24T07:43:...|          589010172|   BLOODSUCKER&MISERY|     BSRMISERY|   false|    null|\n",
      "|2017-09-04T12:24:...| 904681576016969738|いわよだ みとくん！🍋|yodayoda_renka|   false|    null|\n",
      "|2019-03-25T12:29:...|1110156812714565637|     a bug life🦋🐛🌼|      lumyai04|   false|    null|\n",
      "|2021-01-20T15:57:...|1351921566070652930| ◞ ⁽ ᵐⁱᵇᵘᵘᵗʸ ⁾ #Lo...|   mibukaboomm|   false|    null|\n",
      "+--------------------+-------------------+---------------------+--------------+--------+--------+\n",
      "only showing top 5 rows\n",
      "\n"
     ]
    },
    {
     "name": "stderr",
     "output_type": "stream",
     "text": [
      "2022-07-13 13:50:27,300 WARN execution.CacheManager: Asked to cache already cached data.\n"
     ]
    }
   ],
   "source": [
    "df_user_big = \n",
    "df_user_big.cache()\n",
    "df_user_big.[some action](5)"
   ]
  },
  {
   "cell_type": "code",
   "execution_count": null,
   "id": "ec08dc83",
   "metadata": {},
   "outputs": [],
   "source": [
    "%load -r 85-87 solutions.py"
   ]
  },
  {
   "cell_type": "code",
   "execution_count": 33,
   "id": "planned-collectible",
   "metadata": {},
   "outputs": [
    {
     "name": "stdout",
     "output_type": "stream",
     "text": [
      "root\n",
      " |-- created_at: string (nullable = true)\n",
      " |-- id: string (nullable = true)\n",
      " |-- name: string (nullable = true)\n",
      " |-- username: string (nullable = true)\n",
      " |-- verified: boolean (nullable = true)\n",
      " |-- withheld: struct (nullable = true)\n",
      " |    |-- country_codes: array (nullable = true)\n",
      " |    |    |-- element: string (containsNull = true)\n",
      "\n"
     ]
    }
   ],
   "source": [
    "df_user_big.printSchema()"
   ]
  },
  {
   "cell_type": "code",
   "execution_count": null,
   "id": "b08a7d75",
   "metadata": {},
   "outputs": [],
   "source": [
    "%load -r 89-89 solutions.py"
   ]
  },
  {
   "cell_type": "code",
   "execution_count": 48,
   "id": "atmospheric-thailand",
   "metadata": {},
   "outputs": [
    {
     "data": {
      "text/plain": [
       "0"
      ]
     },
     "execution_count": 48,
     "metadata": {},
     "output_type": "execute_result"
    }
   ],
   "source": [
    "# count tweets created after 2019-01-01\n",
    "from pyspark.sql.functions import to_date, lit\n"
   ]
  },
  {
   "cell_type": "code",
   "execution_count": 2,
   "id": "7f2c533e",
   "metadata": {},
   "outputs": [],
   "source": [
    "%load -r 91-91 solutions.py"
   ]
  },
  {
   "cell_type": "code",
   "execution_count": 29,
   "id": "corporate-battle",
   "metadata": {},
   "outputs": [
    {
     "data": {
      "text/plain": [
       "5267"
      ]
     },
     "execution_count": 39,
     "metadata": {},
     "output_type": "execute_result"
    }
   ],
   "source": [
    "#keep verified user\n"
   ]
  },
  {
   "cell_type": "code",
   "execution_count": null,
   "id": "a4335541",
   "metadata": {},
   "outputs": [],
   "source": [
    "%load -r 93-93 solutions.py"
   ]
  },
  {
   "cell_type": "code",
   "execution_count": 30,
   "id": "alien-analyst",
   "metadata": {},
   "outputs": [
    {
     "name": "stderr",
     "output_type": "stream",
     "text": [
      "                                                                                \r"
     ]
    },
    {
     "name": "stdout",
     "output_type": "stream",
     "text": [
      "+----------+---+----+--------+--------+--------+----+--------+\n",
      "|created_at| id|name|username|verified|withheld|data|includes|\n",
      "+----------+---+----+--------+--------+--------+----+--------+\n",
      "+----------+---+----+--------+--------+--------+----+--------+\n",
      "\n"
     ]
    }
   ],
   "source": [
    "# join user and tweets dataframes"
   ]
  },
  {
   "cell_type": "code",
   "execution_count": 3,
   "id": "1f0eeabe",
   "metadata": {},
   "outputs": [],
   "source": [
    "%load -r 95-96 solutions.py"
   ]
  },
  {
   "cell_type": "code",
   "execution_count": 31,
   "id": "acquired-findings",
   "metadata": {},
   "outputs": [
    {
     "data": {
      "text/plain": [
       "0"
      ]
     },
     "execution_count": 31,
     "metadata": {},
     "output_type": "execute_result"
    }
   ],
   "source": [
    "#count number of verified tweets in the joined table"
   ]
  },
  {
   "cell_type": "code",
   "execution_count": 4,
   "id": "ab332870",
   "metadata": {},
   "outputs": [],
   "source": [
    "%load -r 98-98 solutions.py\n"
   ]
  },
  {
   "cell_type": "markdown",
   "id": "connected-fantasy",
   "metadata": {},
   "source": [
    "**DO NOT FORGET TO TURN YOUR SERVICE OFF!**\n",
    "\n",
    "**DO NOT FORGET TO TURN YOUR SERVICE OFF!**\n",
    "\n",
    "**DO NOT FORGET TO TURN YOUR SERVICE OFF!**\n",
    "\n",
    "**DO NOT FORGET TO TURN YOUR SERVICE OFF!**\n",
    "\n",
    "**DO NOT FORGET TO TURN YOUR SERVICE OFF!**\n",
    "\n",
    "**DO NOT FORGET TO TURN YOUR SERVICE OFF!**\n",
    "\n",
    "**DO NOT FORGET TO TURN YOUR SERVICE OFF!**\n",
    "\n",
    "**DO NOT FORGET TO TURN YOUR SERVICE OFF!**\n"
   ]
  },
  {
   "cell_type": "markdown",
   "id": "8812d5da",
   "metadata": {},
   "source": []
  }
 ],
 "metadata": {
  "kernelspec": {
   "display_name": "Python 3 (ipykernel)",
   "language": "python",
   "name": "python3"
  },
  "language_info": {
   "codemirror_mode": {
    "name": "ipython",
    "version": 3
   },
   "file_extension": ".py",
   "mimetype": "text/x-python",
   "name": "python",
   "nbconvert_exporter": "python",
   "pygments_lexer": "ipython3",
   "version": "3.10.4"
  }
 },
 "nbformat": 4,
 "nbformat_minor": 5
}
