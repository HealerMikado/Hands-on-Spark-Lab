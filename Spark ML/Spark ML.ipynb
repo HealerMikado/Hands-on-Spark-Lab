{
 "cells": [
  {
   "cell_type": "code",
   "execution_count": 1,
   "id": "381a19fc-ad25-4e42-b800-6f5fd640bd75",
   "metadata": {},
   "outputs": [
    {
     "ename": "ModuleNotFoundError",
     "evalue": "No module named 'pyspark'",
     "output_type": "error",
     "traceback": [
      "\u001b[0;31m---------------------------------------------------------------------------\u001b[0m",
      "\u001b[0;31mModuleNotFoundError\u001b[0m                       Traceback (most recent call last)",
      "\u001b[1;32m/home/coder/work/tuto-interactif-minimal/Spark ML/Spark ML.ipynb Cell 1'\u001b[0m in \u001b[0;36m<cell line: 1>\u001b[0;34m()\u001b[0m\n\u001b[0;32m----> <a href='vscode-notebook-cell://user-nrandriamanana-125497-0.kub.sspcloud.fr/home/coder/work/tuto-interactif-minimal/Spark%20ML/Spark%20ML.ipynb#ch0000000vscode-remote?line=0'>1</a>\u001b[0m \u001b[39mfrom\u001b[39;00m \u001b[39mpyspark\u001b[39;00m\u001b[39m.\u001b[39;00m\u001b[39msql\u001b[39;00m \u001b[39mimport\u001b[39;00m SparkSession\n\u001b[1;32m      <a href='vscode-notebook-cell://user-nrandriamanana-125497-0.kub.sspcloud.fr/home/coder/work/tuto-interactif-minimal/Spark%20ML/Spark%20ML.ipynb#ch0000000vscode-remote?line=2'>3</a>\u001b[0m spark \u001b[39m=\u001b[39m (SparkSession \n\u001b[1;32m      <a href='vscode-notebook-cell://user-nrandriamanana-125497-0.kub.sspcloud.fr/home/coder/work/tuto-interactif-minimal/Spark%20ML/Spark%20ML.ipynb#ch0000000vscode-remote?line=3'>4</a>\u001b[0m          \u001b[39m.\u001b[39mbuilder\n\u001b[1;32m      <a href='vscode-notebook-cell://user-nrandriamanana-125497-0.kub.sspcloud.fr/home/coder/work/tuto-interactif-minimal/Spark%20ML/Spark%20ML.ipynb#ch0000000vscode-remote?line=4'>5</a>\u001b[0m          \u001b[39m.\u001b[39mappName(\u001b[39m\"\u001b[39m\u001b[39mLab 1\u001b[39m\u001b[39m\"\u001b[39m)\n\u001b[1;32m      <a href='vscode-notebook-cell://user-nrandriamanana-125497-0.kub.sspcloud.fr/home/coder/work/tuto-interactif-minimal/Spark%20ML/Spark%20ML.ipynb#ch0000000vscode-remote?line=5'>6</a>\u001b[0m          \u001b[39m.\u001b[39mmaster(\u001b[39m\"\u001b[39m\u001b[39mlocal[5]\u001b[39m\u001b[39m\"\u001b[39m) \u001b[39m#5 threads for parallelism\u001b[39;00m\n\u001b[1;32m      <a href='vscode-notebook-cell://user-nrandriamanana-125497-0.kub.sspcloud.fr/home/coder/work/tuto-interactif-minimal/Spark%20ML/Spark%20ML.ipynb#ch0000000vscode-remote?line=6'>7</a>\u001b[0m          \u001b[39m.\u001b[39mgetOrCreate()\n\u001b[1;32m      <a href='vscode-notebook-cell://user-nrandriamanana-125497-0.kub.sspcloud.fr/home/coder/work/tuto-interactif-minimal/Spark%20ML/Spark%20ML.ipynb#ch0000000vscode-remote?line=7'>8</a>\u001b[0m         )\n",
      "\u001b[0;31mModuleNotFoundError\u001b[0m: No module named 'pyspark'"
     ]
    }
   ],
   "source": [
    "from pyspark.sql import SparkSession\n",
    "\n",
    "spark = (SparkSession \n",
    "         .builder\n",
    "         .appName(\"Lab 1\")\n",
    "         .master(\"local[5]\") #5 threads for parallelism\n",
    "         .getOrCreate()\n",
    "        )"
   ]
  },
  {
   "cell_type": "code",
   "execution_count": 12,
   "id": "583a5c3d",
   "metadata": {},
   "outputs": [],
   "source": [
    "spark._jsc.hadoopConfiguration().set(\"fs.s3.useRequesterPaysHeader\",\"true\")"
   ]
  },
  {
   "cell_type": "code",
   "execution_count": 13,
   "id": "9d8e7668",
   "metadata": {},
   "outputs": [
    {
     "data": {
      "text/plain": [
       "3760"
      ]
     },
     "execution_count": 13,
     "metadata": {},
     "output_type": "execute_result"
    }
   ],
   "source": [
    "# Q1\n",
    "\n",
    "from functools import reduce\n",
    "\n",
    "errors = [1,10,45,3,5,40]\n",
    "\n",
    "reduce(lambda s1, s2: s1+s2, map(lambda e: e**2, errors))"
   ]
  },
  {
   "cell_type": "code",
   "execution_count": 14,
   "id": "d4433000",
   "metadata": {},
   "outputs": [
    {
     "data": {
      "text/plain": [
       "{'m': 626.6666666666666, 'w': 6}"
      ]
     },
     "execution_count": 14,
     "metadata": {},
     "output_type": "execute_result"
    }
   ],
   "source": [
    "# Q2a\n",
    "\n",
    "from functools import reduce\n",
    "\n",
    "errors = [1,10,45,3,5,40]\n",
    "\n",
    "def weighted_mean(obj1, obj2):\n",
    "  w = obj1[\"w\"] + obj2[\"w\"]\n",
    "  return ({\n",
    "      \"m\" : (obj1[\"m\"] * obj1[\"w\"] + obj2[\"m\"] * obj2[\"w\"]) / w,\n",
    "      \"w\" : w\n",
    "  })\n",
    "squared_errors = map(lambda e: {\"m\" : e**2, \"w\" : 1}, errors)\n",
    "reduce( weighted_mean, squared_errors )"
   ]
  },
  {
   "cell_type": "code",
   "execution_count": 15,
   "id": "3633f28a",
   "metadata": {},
   "outputs": [
    {
     "data": {
      "text/plain": [
       "626.6666666666666"
      ]
     },
     "execution_count": 15,
     "metadata": {},
     "output_type": "execute_result"
    }
   ],
   "source": [
    "# Q2b\n",
    "\n",
    "from functools import reduce\n",
    "\n",
    "errors = [1,10,45,3,5,40]\n",
    "\n",
    "def sum_and_n(obj1, obj2) :\n",
    "  return {\n",
    "    \"sum\" : obj1[\"sum\"] + obj2[\"sum\"],\n",
    "    \"n\"   : obj1[\"n\"] + obj2[\"n\"]\n",
    "  }\n",
    "\n",
    "squared_errors = map(lambda e: {\"sum\" : e**2, \"n\" : 1}, errors)\n",
    "total_sum_and_n = reduce( sum_and_n, squared_errors )\n",
    "total_sum_and_n[\"sum\"]/total_sum_and_n[\"n\"]"
   ]
  },
  {
   "cell_type": "code",
   "execution_count": 18,
   "id": "b4ae2ce2",
   "metadata": {},
   "outputs": [
    {
     "name": "stderr",
     "output_type": "stream",
     "text": [
      "                                                                                \r"
     ]
    }
   ],
   "source": [
    "# A2\n",
    "\n",
    "from pyspark.sql.types import FloatType, IntegerType, DateType\n",
    "from pyspark.sql.functions import substring, col, regexp_replace\n",
    "\n",
    "# listings_raw = spark.read.csv(\"s3n://spark-lab-input-data-ensai20202021/airbnb/data-insideairbnb-australia-vic-barwon-south-west-vic-2020-05-26-data-listings.csv.gz\", header=True, multiLine=True, escape='\"')\n",
    "# listings_raw = spark.read.csv(\"s3n://spark-lab-input-data-ensai20202021/airbnb/\", header=True, multiLine=True, escape='\"')\n",
    "listings_raw = spark.read.csv(\"s3a://nrandriamanana/diffusion/formation/data/airbnb/\", header=True, multiLine=True, escape='\"')"
   ]
  },
  {
   "cell_type": "code",
   "execution_count": 19,
   "id": "9dc0b41f",
   "metadata": {},
   "outputs": [
    {
     "name": "stdout",
     "output_type": "stream",
     "text": [
      "+-------+\n",
      "|  price|\n",
      "+-------+\n",
      "| $87.00|\n",
      "| $77.00|\n",
      "|$200.00|\n",
      "| $74.00|\n",
      "|$108.00|\n",
      "| $95.00|\n",
      "|$101.00|\n",
      "|$133.00|\n",
      "| $97.00|\n",
      "|$105.00|\n",
      "| $95.00|\n",
      "| $75.00|\n",
      "| $85.00|\n",
      "|$108.00|\n",
      "| $84.00|\n",
      "| $99.00|\n",
      "| $96.00|\n",
      "|$106.00|\n",
      "|$120.00|\n",
      "|$103.00|\n",
      "+-------+\n",
      "only showing top 20 rows\n",
      "\n"
     ]
    }
   ],
   "source": [
    "listings_raw.select(\"price\").show()"
   ]
  },
  {
   "cell_type": "code",
   "execution_count": 64,
   "id": "049a00bc",
   "metadata": {},
   "outputs": [],
   "source": [
    "listings = (listings_raw\n",
    "  .withColumn(\"beds\",     listings_raw[\"beds\"].cast(IntegerType()))\n",
    "  .withColumn(\"bedrooms\", listings_raw[\"bedrooms\"].cast(IntegerType()))\n",
    "  .withColumn(\"time\", listings_raw[\"last_scraped\"].cast(DateType()))\n",
    "  .withColumn(\"price\", regexp_replace('price', '[$\\\\,]', '').cast(FloatType()))\n",
    "  .select(\"id\", \"beds\", \"bedrooms\", \"price\", \"city\", \"time\")\n",
    "  .dropna()     \n",
    ")"
   ]
  },
  {
   "cell_type": "code",
   "execution_count": 61,
   "id": "99810374",
   "metadata": {},
   "outputs": [
    {
     "name": "stderr",
     "output_type": "stream",
     "text": [
      "2022-07-13 14:59:59,521 WARN csv.CSVHeaderChecker: CSV header does not conform to the schema.\n",
      " Header: id, last_scraped, bedrooms, beds, price, \n",
      " Schema: id, last_scraped, bedrooms, beds, price, city\n",
      "Expected: city but found: \n",
      "CSV file: s3a://nrandriamanana/diffusion/formation/data/airbnb/temp_data-insideairbnb-belgium-bru-brussels-2021-12-20-data-listings.csv.gz\n",
      "2022-07-13 14:59:59,561 WARN csv.CSVHeaderChecker: CSV header does not conform to the schema.\n",
      " Header: id, last_scraped, bedrooms, beds, price, \n",
      " Schema: id, last_scraped, bedrooms, beds, price, city\n",
      "Expected: city but found: \n",
      "CSV file: s3a://nrandriamanana/diffusion/formation/data/airbnb/temp_data-insideairbnb-united-states-or-salem-or-2021-12-20-data-listings.csv.gz\n"
     ]
    },
    {
     "name": "stdout",
     "output_type": "stream",
     "text": [
      "+--------+-----+\n",
      "|    city|count|\n",
      "+--------+-----+\n",
      "|brussels| 4539|\n",
      "|    riga| 1776|\n",
      "|salem-or|  156|\n",
      "+--------+-----+\n",
      "\n"
     ]
    },
    {
     "name": "stderr",
     "output_type": "stream",
     "text": [
      "2022-07-13 14:59:59,765 WARN csv.CSVHeaderChecker: CSV header does not conform to the schema.\n",
      " Header: id, last_scraped, bedrooms, beds, price, \n",
      " Schema: id, last_scraped, bedrooms, beds, price, city\n",
      "Expected: city but found: \n",
      "CSV file: s3a://nrandriamanana/diffusion/formation/data/airbnb/temp_data-insideairbnb-latvia-riga-riga-2021-12-29-data-listings.csv.gz\n"
     ]
    }
   ],
   "source": [
    "listings.groupBy(\"city\").count().sort(col(\"count\").desc()).show()"
   ]
  },
  {
   "cell_type": "code",
   "execution_count": 22,
   "id": "1b47e9ce",
   "metadata": {},
   "outputs": [
    {
     "name": "stdout",
     "output_type": "stream",
     "text": [
      "+------+----+--------+-----+--------+----------+\n",
      "|    id|beds|bedrooms|price|    city|      time|\n",
      "+------+----+--------+-----+--------+----------+\n",
      "|  2352|   2|       2| 87.0|brussels|2021-12-20|\n",
      "|  2354|   1|       1| 77.0|brussels|2021-12-20|\n",
      "| 48180|   2|       2|200.0|brussels|2021-12-20|\n",
      "| 52796|   1|       1| 74.0|brussels|2021-12-20|\n",
      "| 96293|   4|       1|133.0|brussels|2021-12-20|\n",
      "| 96694|   3|       1|105.0|brussels|2021-12-20|\n",
      "| 97740|   3|       2| 95.0|brussels|2021-12-20|\n",
      "| 97768|   1|       1| 75.0|brussels|2021-12-20|\n",
      "|106677|   1|       1| 85.0|brussels|2021-12-20|\n",
      "|130097|   1|       1| 84.0|brussels|2021-12-20|\n",
      "|134361|   3|       1| 96.0|brussels|2021-12-20|\n",
      "|134581|   6|       1|120.0|brussels|2021-12-20|\n",
      "|148797|   5|       3|100.0|brussels|2021-12-20|\n",
      "|159836|   3|       1| 49.0|brussels|2021-12-20|\n",
      "|166510|   1|       1|159.0|brussels|2021-12-20|\n",
      "|184201|   1|       1| 65.0|brussels|2021-12-20|\n",
      "|196623|   2|       1|100.0|brussels|2021-12-20|\n",
      "|198943|   1|       1| 70.0|brussels|2021-12-20|\n",
      "|200385|   1|       1| 68.0|brussels|2021-12-20|\n",
      "|268652|   2|       1| 72.0|brussels|2021-12-20|\n",
      "+------+----+--------+-----+--------+----------+\n",
      "only showing top 20 rows\n",
      "\n"
     ]
    }
   ],
   "source": [
    "listings.show()"
   ]
  },
  {
   "cell_type": "code",
   "execution_count": 65,
   "id": "63402807",
   "metadata": {},
   "outputs": [
    {
     "name": "stderr",
     "output_type": "stream",
     "text": [
      "2022-07-13 15:01:48,530 WARN csv.CSVHeaderChecker: CSV header does not conform to the schema.\n",
      " Header: id, last_scraped, bedrooms, beds, price, \n",
      " Schema: id, last_scraped, bedrooms, beds, price, city\n",
      "Expected: city but found: \n",
      "CSV file: s3a://nrandriamanana/diffusion/formation/data/airbnb/temp_data-insideairbnb-united-states-or-salem-or-2021-12-20-data-listings.csv.gz\n",
      "2022-07-13 15:01:48,532 WARN csv.CSVHeaderChecker: CSV header does not conform to the schema.\n",
      " Header: id, last_scraped, bedrooms, beds, price, \n",
      " Schema: id, last_scraped, bedrooms, beds, price, city\n",
      "Expected: city but found: \n",
      "CSV file: s3a://nrandriamanana/diffusion/formation/data/airbnb/temp_data-insideairbnb-belgium-bru-brussels-2021-12-20-data-listings.csv.gz\n",
      "2022-07-13 15:01:48,724 WARN csv.CSVHeaderChecker: CSV header does not conform to the schema.\n",
      " Header: id, last_scraped, bedrooms, beds, price, \n",
      " Schema: id, last_scraped, bedrooms, beds, price, city\n",
      "Expected: city but found: \n",
      "CSV file: s3a://nrandriamanana/diffusion/formation/data/airbnb/temp_data-insideairbnb-latvia-riga-riga-2021-12-29-data-listings.csv.gz\n"
     ]
    },
    {
     "name": "stdout",
     "output_type": "stream",
     "text": [
      "Observations before cleaning: 15084\n",
      "Observations  after cleaning: 6471 (change: -8613 )\n"
     ]
    }
   ],
   "source": [
    "# Q6\n",
    "\n",
    "n0 = listings_raw.count()\n",
    "n  = listings.count()\n",
    "print(\"Observations before cleaning:\", n0) #\n",
    "print(\"Observations  after cleaning:\", n, \"(change:\",  n-n0,\")\")     # "
   ]
  },
  {
   "cell_type": "code",
   "execution_count": 56,
   "id": "fd91c1e8",
   "metadata": {},
   "outputs": [
    {
     "name": "stdout",
     "output_type": "stream",
     "text": [
      "There are 75 columns:\n",
      "- id\n",
      "- listing_url\n",
      "- scrape_id\n",
      "- last_scraped\n",
      "- name\n",
      "- description\n",
      "- neighborhood_overview\n",
      "- picture_url\n",
      "- host_id\n",
      "- host_url\n",
      "- host_name\n",
      "- host_since\n",
      "- host_location\n",
      "- host_about\n",
      "- host_response_time\n",
      "- host_response_rate\n",
      "- host_acceptance_rate\n",
      "- host_is_superhost\n",
      "- host_thumbnail_url\n",
      "- host_picture_url\n",
      "- host_neighbourhood\n",
      "- host_listings_count\n",
      "- host_total_listings_count\n",
      "- host_verifications\n",
      "- host_has_profile_pic\n",
      "- host_identity_verified\n",
      "- neighbourhood\n",
      "- neighbourhood_cleansed\n",
      "- neighbourhood_group_cleansed\n",
      "- latitude\n",
      "- longitude\n",
      "- property_type\n",
      "- room_type\n",
      "- accommodates\n",
      "- bathrooms\n",
      "- bathrooms_text\n",
      "- bedrooms\n",
      "- beds\n",
      "- amenities\n",
      "- price\n",
      "- minimum_nights\n",
      "- maximum_nights\n",
      "- minimum_minimum_nights\n",
      "- maximum_minimum_nights\n",
      "- minimum_maximum_nights\n",
      "- maximum_maximum_nights\n",
      "- minimum_nights_avg_ntm\n",
      "- maximum_nights_avg_ntm\n",
      "- calendar_updated\n",
      "- has_availability\n",
      "- availability_30\n",
      "- availability_60\n",
      "- availability_90\n",
      "- availability_365\n",
      "- calendar_last_scraped\n",
      "- number_of_reviews\n",
      "- number_of_reviews_ltm\n",
      "- number_of_reviews_l30d\n",
      "- first_review\n",
      "- last_review\n",
      "- review_scores_rating\n",
      "- review_scores_accuracy\n",
      "- review_scores_cleanliness\n",
      "- review_scores_checkin\n",
      "- review_scores_communication\n",
      "- review_scores_location\n",
      "- review_scores_value\n",
      "- license\n",
      "- instant_bookable\n",
      "- calculated_host_listings_count\n",
      "- calculated_host_listings_count_entire_homes\n",
      "- calculated_host_listings_count_private_rooms\n",
      "- calculated_host_listings_count_shared_rooms\n",
      "- reviews_per_month\n",
      "- city\n"
     ]
    }
   ],
   "source": [
    "# Q7\n",
    "\n",
    "print(\"There are\", len(listings_raw.columns), \"columns:\")\n",
    "print('\\n'.join( [\"- \"+column for column in listings_raw.columns] ))"
   ]
  },
  {
   "cell_type": "code",
   "execution_count": 25,
   "id": "c774fa44",
   "metadata": {},
   "outputs": [
    {
     "name": "stdout",
     "output_type": "stream",
     "text": [
      "StructType(List(StructField(id,StringType,true),StructField(listing_url,StringType,true),StructField(scrape_id,StringType,true),StructField(last_scraped,StringType,true),StructField(name,StringType,true),StructField(description,StringType,true),StructField(neighborhood_overview,StringType,true),StructField(picture_url,StringType,true),StructField(host_id,StringType,true),StructField(host_url,StringType,true),StructField(host_name,StringType,true),StructField(host_since,StringType,true),StructField(host_location,StringType,true),StructField(host_about,StringType,true),StructField(host_response_time,StringType,true),StructField(host_response_rate,StringType,true),StructField(host_acceptance_rate,StringType,true),StructField(host_is_superhost,StringType,true),StructField(host_thumbnail_url,StringType,true),StructField(host_picture_url,StringType,true),StructField(host_neighbourhood,StringType,true),StructField(host_listings_count,StringType,true),StructField(host_total_listings_count,StringType,true),StructField(host_verifications,StringType,true),StructField(host_has_profile_pic,StringType,true),StructField(host_identity_verified,StringType,true),StructField(neighbourhood,StringType,true),StructField(neighbourhood_cleansed,StringType,true),StructField(neighbourhood_group_cleansed,StringType,true),StructField(latitude,StringType,true),StructField(longitude,StringType,true),StructField(property_type,StringType,true),StructField(room_type,StringType,true),StructField(accommodates,StringType,true),StructField(bathrooms,StringType,true),StructField(bathrooms_text,StringType,true),StructField(bedrooms,StringType,true),StructField(beds,StringType,true),StructField(amenities,StringType,true),StructField(price,StringType,true),StructField(minimum_nights,StringType,true),StructField(maximum_nights,StringType,true),StructField(minimum_minimum_nights,StringType,true),StructField(maximum_minimum_nights,StringType,true),StructField(minimum_maximum_nights,StringType,true),StructField(maximum_maximum_nights,StringType,true),StructField(minimum_nights_avg_ntm,StringType,true),StructField(maximum_nights_avg_ntm,StringType,true),StructField(calendar_updated,StringType,true),StructField(has_availability,StringType,true),StructField(availability_30,StringType,true),StructField(availability_60,StringType,true),StructField(availability_90,StringType,true),StructField(availability_365,StringType,true),StructField(calendar_last_scraped,StringType,true),StructField(number_of_reviews,StringType,true),StructField(number_of_reviews_ltm,StringType,true),StructField(number_of_reviews_l30d,StringType,true),StructField(first_review,StringType,true),StructField(last_review,StringType,true),StructField(review_scores_rating,StringType,true),StructField(review_scores_accuracy,StringType,true),StructField(review_scores_cleanliness,StringType,true),StructField(review_scores_checkin,StringType,true),StructField(review_scores_communication,StringType,true),StructField(review_scores_location,StringType,true),StructField(review_scores_value,StringType,true),StructField(license,StringType,true),StructField(instant_bookable,StringType,true),StructField(calculated_host_listings_count,StringType,true),StructField(calculated_host_listings_count_entire_homes,StringType,true),StructField(calculated_host_listings_count_private_rooms,StringType,true),StructField(calculated_host_listings_count_shared_rooms,StringType,true),StructField(reviews_per_month,StringType,true),StructField(city,StringType,true)))\n",
      "[('id', 'string'), ('listing_url', 'string'), ('scrape_id', 'string'), ('last_scraped', 'string'), ('name', 'string'), ('description', 'string'), ('neighborhood_overview', 'string'), ('picture_url', 'string'), ('host_id', 'string'), ('host_url', 'string'), ('host_name', 'string'), ('host_since', 'string'), ('host_location', 'string'), ('host_about', 'string'), ('host_response_time', 'string'), ('host_response_rate', 'string'), ('host_acceptance_rate', 'string'), ('host_is_superhost', 'string'), ('host_thumbnail_url', 'string'), ('host_picture_url', 'string'), ('host_neighbourhood', 'string'), ('host_listings_count', 'string'), ('host_total_listings_count', 'string'), ('host_verifications', 'string'), ('host_has_profile_pic', 'string'), ('host_identity_verified', 'string'), ('neighbourhood', 'string'), ('neighbourhood_cleansed', 'string'), ('neighbourhood_group_cleansed', 'string'), ('latitude', 'string'), ('longitude', 'string'), ('property_type', 'string'), ('room_type', 'string'), ('accommodates', 'string'), ('bathrooms', 'string'), ('bathrooms_text', 'string'), ('bedrooms', 'string'), ('beds', 'string'), ('amenities', 'string'), ('price', 'string'), ('minimum_nights', 'string'), ('maximum_nights', 'string'), ('minimum_minimum_nights', 'string'), ('maximum_minimum_nights', 'string'), ('minimum_maximum_nights', 'string'), ('maximum_maximum_nights', 'string'), ('minimum_nights_avg_ntm', 'string'), ('maximum_nights_avg_ntm', 'string'), ('calendar_updated', 'string'), ('has_availability', 'string'), ('availability_30', 'string'), ('availability_60', 'string'), ('availability_90', 'string'), ('availability_365', 'string'), ('calendar_last_scraped', 'string'), ('number_of_reviews', 'string'), ('number_of_reviews_ltm', 'string'), ('number_of_reviews_l30d', 'string'), ('first_review', 'string'), ('last_review', 'string'), ('review_scores_rating', 'string'), ('review_scores_accuracy', 'string'), ('review_scores_cleanliness', 'string'), ('review_scores_checkin', 'string'), ('review_scores_communication', 'string'), ('review_scores_location', 'string'), ('review_scores_value', 'string'), ('license', 'string'), ('instant_bookable', 'string'), ('calculated_host_listings_count', 'string'), ('calculated_host_listings_count_entire_homes', 'string'), ('calculated_host_listings_count_private_rooms', 'string'), ('calculated_host_listings_count_shared_rooms', 'string'), ('reviews_per_month', 'string'), ('city', 'string')]\n",
      "root\n",
      " |-- id: string (nullable = true)\n",
      " |-- listing_url: string (nullable = true)\n",
      " |-- scrape_id: string (nullable = true)\n",
      " |-- last_scraped: string (nullable = true)\n",
      " |-- name: string (nullable = true)\n",
      " |-- description: string (nullable = true)\n",
      " |-- neighborhood_overview: string (nullable = true)\n",
      " |-- picture_url: string (nullable = true)\n",
      " |-- host_id: string (nullable = true)\n",
      " |-- host_url: string (nullable = true)\n",
      " |-- host_name: string (nullable = true)\n",
      " |-- host_since: string (nullable = true)\n",
      " |-- host_location: string (nullable = true)\n",
      " |-- host_about: string (nullable = true)\n",
      " |-- host_response_time: string (nullable = true)\n",
      " |-- host_response_rate: string (nullable = true)\n",
      " |-- host_acceptance_rate: string (nullable = true)\n",
      " |-- host_is_superhost: string (nullable = true)\n",
      " |-- host_thumbnail_url: string (nullable = true)\n",
      " |-- host_picture_url: string (nullable = true)\n",
      " |-- host_neighbourhood: string (nullable = true)\n",
      " |-- host_listings_count: string (nullable = true)\n",
      " |-- host_total_listings_count: string (nullable = true)\n",
      " |-- host_verifications: string (nullable = true)\n",
      " |-- host_has_profile_pic: string (nullable = true)\n",
      " |-- host_identity_verified: string (nullable = true)\n",
      " |-- neighbourhood: string (nullable = true)\n",
      " |-- neighbourhood_cleansed: string (nullable = true)\n",
      " |-- neighbourhood_group_cleansed: string (nullable = true)\n",
      " |-- latitude: string (nullable = true)\n",
      " |-- longitude: string (nullable = true)\n",
      " |-- property_type: string (nullable = true)\n",
      " |-- room_type: string (nullable = true)\n",
      " |-- accommodates: string (nullable = true)\n",
      " |-- bathrooms: string (nullable = true)\n",
      " |-- bathrooms_text: string (nullable = true)\n",
      " |-- bedrooms: string (nullable = true)\n",
      " |-- beds: string (nullable = true)\n",
      " |-- amenities: string (nullable = true)\n",
      " |-- price: string (nullable = true)\n",
      " |-- minimum_nights: string (nullable = true)\n",
      " |-- maximum_nights: string (nullable = true)\n",
      " |-- minimum_minimum_nights: string (nullable = true)\n",
      " |-- maximum_minimum_nights: string (nullable = true)\n",
      " |-- minimum_maximum_nights: string (nullable = true)\n",
      " |-- maximum_maximum_nights: string (nullable = true)\n",
      " |-- minimum_nights_avg_ntm: string (nullable = true)\n",
      " |-- maximum_nights_avg_ntm: string (nullable = true)\n",
      " |-- calendar_updated: string (nullable = true)\n",
      " |-- has_availability: string (nullable = true)\n",
      " |-- availability_30: string (nullable = true)\n",
      " |-- availability_60: string (nullable = true)\n",
      " |-- availability_90: string (nullable = true)\n",
      " |-- availability_365: string (nullable = true)\n",
      " |-- calendar_last_scraped: string (nullable = true)\n",
      " |-- number_of_reviews: string (nullable = true)\n",
      " |-- number_of_reviews_ltm: string (nullable = true)\n",
      " |-- number_of_reviews_l30d: string (nullable = true)\n",
      " |-- first_review: string (nullable = true)\n",
      " |-- last_review: string (nullable = true)\n",
      " |-- review_scores_rating: string (nullable = true)\n",
      " |-- review_scores_accuracy: string (nullable = true)\n",
      " |-- review_scores_cleanliness: string (nullable = true)\n",
      " |-- review_scores_checkin: string (nullable = true)\n",
      " |-- review_scores_communication: string (nullable = true)\n",
      " |-- review_scores_location: string (nullable = true)\n",
      " |-- review_scores_value: string (nullable = true)\n",
      " |-- license: string (nullable = true)\n",
      " |-- instant_bookable: string (nullable = true)\n",
      " |-- calculated_host_listings_count: string (nullable = true)\n",
      " |-- calculated_host_listings_count_entire_homes: string (nullable = true)\n",
      " |-- calculated_host_listings_count_private_rooms: string (nullable = true)\n",
      " |-- calculated_host_listings_count_shared_rooms: string (nullable = true)\n",
      " |-- reviews_per_month: string (nullable = true)\n",
      " |-- city: string (nullable = true)\n",
      "\n"
     ]
    }
   ],
   "source": [
    "# Q8\n",
    "\n",
    "# 3 ways\n",
    "print(listings_raw.schema)\n",
    "print(listings_raw.dtypes)\n",
    "listings_raw.printSchema()"
   ]
  },
  {
   "cell_type": "code",
   "execution_count": 26,
   "id": "66036231",
   "metadata": {},
   "outputs": [],
   "source": [
    "# Q9"
   ]
  },
  {
   "cell_type": "code",
   "execution_count": 32,
   "id": "20e1e5b6",
   "metadata": {},
   "outputs": [
    {
     "name": "stderr",
     "output_type": "stream",
     "text": [
      "2022-07-13 14:50:52,438 WARN csv.CSVHeaderChecker: CSV header does not conform to the schema.\n",
      " Header: id, last_scraped, bedrooms, beds, price, \n",
      " Schema: id, last_scraped, bedrooms, beds, price, city\n",
      "Expected: city but found: \n",
      "CSV file: s3a://nrandriamanana/diffusion/formation/data/airbnb/temp_data-insideairbnb-belgium-bru-brussels-2021-12-20-data-listings.csv.gz\n",
      "2022-07-13 14:50:52,554 WARN csv.CSVHeaderChecker: CSV header does not conform to the schema.\n",
      " Header: id, last_scraped, bedrooms, beds, price, \n",
      " Schema: id, last_scraped, bedrooms, beds, price, city\n",
      "Expected: city but found: \n",
      "CSV file: s3a://nrandriamanana/diffusion/formation/data/airbnb/temp_data-insideairbnb-united-states-or-salem-or-2021-12-20-data-listings.csv.gz\n",
      "2022-07-13 14:50:52,693 WARN csv.CSVHeaderChecker: CSV header does not conform to the schema.\n",
      " Header: id, last_scraped, bedrooms, beds, price, \n",
      " Schema: id, last_scraped, bedrooms, beds, price, city\n",
      "Expected: city but found: \n",
      "CSV file: s3a://nrandriamanana/diffusion/formation/data/airbnb/temp_data-insideairbnb-latvia-riga-riga-2021-12-29-data-listings.csv.gz\n"
     ]
    },
    {
     "name": "stdout",
     "output_type": "stream",
     "text": [
      "+-------+--------+----+--------+------+--------+\n",
      "|summary|      id|beds|bedrooms| price|    city|\n",
      "+-------+--------+----+--------+------+--------+\n",
      "|  count|    6471|6471|    6471|  6471|    6471|\n",
      "|    min|10008009|   1|       1|   8.0|brussels|\n",
      "|    max| 9981899|  50|      40|5000.0|salem-or|\n",
      "+-------+--------+----+--------+------+--------+\n",
      "\n",
      "Execution time for sumary(\"count\"...): 0.6172656689996074 s\n"
     ]
    },
    {
     "name": "stderr",
     "output_type": "stream",
     "text": [
      "2022-07-13 14:50:53,079 WARN csv.CSVHeaderChecker: CSV header does not conform to the schema.\n",
      " Header: id, last_scraped, bedrooms, beds, price, \n",
      " Schema: id, last_scraped, bedrooms, beds, price, city\n",
      "Expected: city but found: \n",
      "CSV file: s3a://nrandriamanana/diffusion/formation/data/airbnb/temp_data-insideairbnb-belgium-bru-brussels-2021-12-20-data-listings.csv.gz\n",
      "2022-07-13 14:50:53,220 WARN csv.CSVHeaderChecker: CSV header does not conform to the schema.\n",
      " Header: id, last_scraped, bedrooms, beds, price, \n",
      " Schema: id, last_scraped, bedrooms, beds, price, city\n",
      "Expected: city but found: \n",
      "CSV file: s3a://nrandriamanana/diffusion/formation/data/airbnb/temp_data-insideairbnb-united-states-or-salem-or-2021-12-20-data-listings.csv.gz\n",
      "2022-07-13 14:50:53,419 WARN csv.CSVHeaderChecker: CSV header does not conform to the schema.\n",
      " Header: id, last_scraped, bedrooms, beds, price, \n",
      " Schema: id, last_scraped, bedrooms, beds, price, city\n",
      "Expected: city but found: \n",
      "CSV file: s3a://nrandriamanana/diffusion/formation/data/airbnb/temp_data-insideairbnb-latvia-riga-riga-2021-12-29-data-listings.csv.gz\n"
     ]
    },
    {
     "name": "stdout",
     "output_type": "stream",
     "text": [
      "+-------+--------------------+------------------+------------------+------------------+--------+\n",
      "|summary|                  id|              beds|          bedrooms|             price|    city|\n",
      "+-------+--------------------+------------------+------------------+------------------+--------+\n",
      "|  count|                6471|              6471|              6471|              6471|    6471|\n",
      "|   mean| 3.192046149126874E7|2.0100448153299335|1.4546437953948386| 96.29377221449545|    null|\n",
      "| stddev|1.5987299928039854E7|1.6912515639919852|1.0939229318497001|223.17858006434983|    null|\n",
      "|    min|            10008009|                 1|                 1|               8.0|brussels|\n",
      "|    25%|         1.9120099E7|                 1|                 1|              45.0|    null|\n",
      "|    50%|         3.4994211E7|                 2|                 1|              66.0|    null|\n",
      "|    75%|         4.5584955E7|                 2|                 2|              98.0|    null|\n",
      "|    max|             9981899|                50|                40|            5000.0|salem-or|\n",
      "+-------+--------------------+------------------+------------------+------------------+--------+\n",
      "\n",
      "Execution time for sumary(): 0.7979508800017356 s\n"
     ]
    }
   ],
   "source": [
    "from timeit import default_timer as t\n",
    "\n",
    "## version 1 ------------------\n",
    "\n",
    "start = t()\n",
    "\n",
    "listings.summary(\"count\", \"min\", \"max\").show()\n",
    "\n",
    "print (\"Execution time for sumary(\\\"count\\\"...):\", t()-start, \"s\")\n",
    "\n",
    "## version 2 ------------------\n",
    "\n",
    "start = t()\n",
    "\n",
    "listings.summary().show()\n",
    "\n",
    "print (\"Execution time for sumary():\", t()-start, \"s\")\n"
   ]
  },
  {
   "cell_type": "code",
   "execution_count": 28,
   "id": "13527c2d",
   "metadata": {},
   "outputs": [],
   "source": [
    "# Q10"
   ]
  },
  {
   "cell_type": "code",
   "execution_count": 29,
   "id": "2b6a5a33",
   "metadata": {},
   "outputs": [
    {
     "name": "stderr",
     "output_type": "stream",
     "text": [
      "2022-07-13 14:50:26,757 WARN csv.CSVHeaderChecker: CSV header does not conform to the schema.\n",
      " Header: id, last_scraped, bedrooms, beds, price, \n",
      " Schema: id, last_scraped, bedrooms, beds, price, city\n",
      "Expected: city but found: \n",
      "CSV file: s3a://nrandriamanana/diffusion/formation/data/airbnb/temp_data-insideairbnb-united-states-or-salem-or-2021-12-20-data-listings.csv.gz\n",
      "2022-07-13 14:50:26,758 WARN csv.CSVHeaderChecker: CSV header does not conform to the schema.\n",
      " Header: id, last_scraped, bedrooms, beds, price, \n",
      " Schema: id, last_scraped, bedrooms, beds, price, city\n",
      "Expected: city but found: \n",
      "CSV file: s3a://nrandriamanana/diffusion/formation/data/airbnb/temp_data-insideairbnb-belgium-bru-brussels-2021-12-20-data-listings.csv.gz\n",
      "2022-07-13 14:50:26,905 WARN csv.CSVHeaderChecker: CSV header does not conform to the schema.\n",
      " Header: id, last_scraped, bedrooms, beds, price, \n",
      " Schema: id, last_scraped, bedrooms, beds, price, city\n",
      "Expected: city but found: \n",
      "CSV file: s3a://nrandriamanana/diffusion/formation/data/airbnb/temp_data-insideairbnb-latvia-riga-riga-2021-12-29-data-listings.csv.gz\n"
     ]
    },
    {
     "name": "stdout",
     "output_type": "stream",
     "text": [
      "+---------+\n",
      "|avg(beds)|\n",
      "+---------+\n",
      "|     null|\n",
      "+---------+\n",
      "\n",
      "Execution time: 0.6358329180002329 s\n"
     ]
    }
   ],
   "source": [
    "## version 1 ------------------\n",
    "\n",
    "from timeit import default_timer as t\n",
    "from pyspark.sql.functions import mean\n",
    "\n",
    "start = t()\n",
    "\n",
    "listings.filter(col(\"city\")==\"Fairhaven\").select(mean('beds')).show()\n",
    "\n",
    "print (\"Execution time:\", t()-start, \"s\")"
   ]
  },
  {
   "cell_type": "code",
   "execution_count": 33,
   "id": "057c97ab",
   "metadata": {},
   "outputs": [
    {
     "name": "stderr",
     "output_type": "stream",
     "text": [
      "2022-07-13 14:51:57,176 WARN csv.CSVHeaderChecker: CSV header does not conform to the schema.\n",
      " Header: id, last_scraped, bedrooms, beds, price, \n",
      " Schema: id, last_scraped, bedrooms, beds, price, city\n",
      "Expected: city but found: \n",
      "CSV file: s3a://nrandriamanana/diffusion/formation/data/airbnb/temp_data-insideairbnb-belgium-bru-brussels-2021-12-20-data-listings.csv.gz\n",
      "2022-07-13 14:51:57,230 WARN csv.CSVHeaderChecker: CSV header does not conform to the schema.\n",
      " Header: id, last_scraped, bedrooms, beds, price, \n",
      " Schema: id, last_scraped, bedrooms, beds, price, city\n",
      "Expected: city but found: \n",
      "CSV file: s3a://nrandriamanana/diffusion/formation/data/airbnb/temp_data-insideairbnb-united-states-or-salem-or-2021-12-20-data-listings.csv.gz\n"
     ]
    },
    {
     "name": "stdout",
     "output_type": "stream",
     "text": [
      "+-------+-----------------+\n",
      "|summary|             beds|\n",
      "+-------+-----------------+\n",
      "|   mean|1.834324741132408|\n",
      "+-------+-----------------+\n",
      "\n",
      "Execution time: 0.6423636129984516 s\n"
     ]
    },
    {
     "name": "stderr",
     "output_type": "stream",
     "text": [
      "2022-07-13 14:51:57,381 WARN csv.CSVHeaderChecker: CSV header does not conform to the schema.\n",
      " Header: id, last_scraped, bedrooms, beds, price, \n",
      " Schema: id, last_scraped, bedrooms, beds, price, city\n",
      "Expected: city but found: \n",
      "CSV file: s3a://nrandriamanana/diffusion/formation/data/airbnb/temp_data-insideairbnb-latvia-riga-riga-2021-12-29-data-listings.csv.gz\n"
     ]
    }
   ],
   "source": [
    "## version 2 ------------------\n",
    "\n",
    "from timeit import default_timer as t\n",
    "\n",
    "start = t()\n",
    "\n",
    "listings.filter(col(\"city\")==\"brussels\").select(\"beds\").summary(\"mean\").show()\n",
    "\n",
    "print (\"Execution time:\", t()-start, \"s\")"
   ]
  },
  {
   "cell_type": "code",
   "execution_count": 38,
   "id": "1ab4bc62",
   "metadata": {},
   "outputs": [
    {
     "name": "stderr",
     "output_type": "stream",
     "text": [
      "2022-07-13 14:53:19,766 WARN csv.CSVHeaderChecker: CSV header does not conform to the schema.\n",
      " Header: id, last_scraped, bedrooms, beds, price, \n",
      " Schema: id, last_scraped, bedrooms, beds, price, city\n",
      "Expected: city but found: \n",
      "CSV file: s3a://nrandriamanana/diffusion/formation/data/airbnb/temp_data-insideairbnb-belgium-bru-brussels-2021-12-20-data-listings.csv.gz\n",
      "2022-07-13 14:53:19,768 WARN csv.CSVHeaderChecker: CSV header does not conform to the schema.\n",
      " Header: id, last_scraped, bedrooms, beds, price, \n",
      " Schema: id, last_scraped, bedrooms, beds, price, city\n",
      "Expected: city but found: \n",
      "CSV file: s3a://nrandriamanana/diffusion/formation/data/airbnb/temp_data-insideairbnb-united-states-or-salem-or-2021-12-20-data-listings.csv.gz\n",
      "2022-07-13 14:53:19,890 WARN csv.CSVHeaderChecker: CSV header does not conform to the schema.\n",
      " Header: id, last_scraped, bedrooms, beds, price, \n",
      " Schema: id, last_scraped, bedrooms, beds, price, city\n",
      "Expected: city but found: \n",
      "CSV file: s3a://nrandriamanana/diffusion/formation/data/airbnb/temp_data-insideairbnb-latvia-riga-riga-2021-12-29-data-listings.csv.gz\n"
     ]
    },
    {
     "name": "stdout",
     "output_type": "stream",
     "text": [
      "+--------------------------------+\n",
      "|aggregate_metrics(features, 1.0)|\n",
      "+--------------------------------+\n",
      "|{[1.834324741132409]}           |\n",
      "+--------------------------------+\n",
      "\n",
      "Execution time: 0.6643451919990184 s\n"
     ]
    }
   ],
   "source": [
    "## version 3 ------------------\n",
    "\n",
    "from timeit import default_timer as t\n",
    "from pyspark.ml.feature import VectorAssembler\n",
    "from pyspark.ml.stat    import Summarizer\n",
    "\n",
    "start = t()\n",
    "\n",
    "vectorizer = VectorAssembler(\n",
    "    inputCols     = [\"beds\"],\n",
    "    outputCol     = \"features\"\n",
    ")\n",
    "summarizer = Summarizer.metrics(\"mean\")\n",
    "listings_vec = vectorizer.transform(listings.filter(col(\"city\")==\"brussels\"))\n",
    "listings_vec.select( summarizer.summary( listings_vec.features) ).show(truncate=False)\n",
    "\n",
    "\n",
    "print (\"Execution time:\", t()-start, \"s\")"
   ]
  },
  {
   "cell_type": "code",
   "execution_count": 39,
   "id": "411d0ddb",
   "metadata": {},
   "outputs": [
    {
     "ename": "NameError",
     "evalue": "name 'sc' is not defined",
     "output_type": "error",
     "traceback": [
      "\u001b[0;31m---------------------------------------------------------------------------\u001b[0m",
      "\u001b[0;31mNameError\u001b[0m                                 Traceback (most recent call last)",
      "Input \u001b[0;32mIn [39]\u001b[0m, in \u001b[0;36m<cell line: 2>\u001b[0;34m()\u001b[0m\n\u001b[1;32m      1\u001b[0m \u001b[38;5;66;03m## version 4 ---------------\u001b[39;00m\n\u001b[0;32m----> 2\u001b[0m \u001b[43msc\u001b[49m\u001b[38;5;241m.\u001b[39minstall_pypi_package(\u001b[38;5;124m\"\u001b[39m\u001b[38;5;124mpandas==0.25.1\u001b[39m\u001b[38;5;124m\"\u001b[39m)\n",
      "\u001b[0;31mNameError\u001b[0m: name 'sc' is not defined"
     ]
    }
   ],
   "source": [
    "## version 4 ---------------\n",
    "sc.install_pypi_package(\"pandas==0.25.1\")"
   ]
  },
  {
   "cell_type": "code",
   "execution_count": 40,
   "id": "dd8dac16",
   "metadata": {},
   "outputs": [
    {
     "name": "stderr",
     "output_type": "stream",
     "text": [
      "2022-07-13 14:53:29,810 WARN csv.CSVHeaderChecker: CSV header does not conform to the schema.\n",
      " Header: id, last_scraped, bedrooms, beds, price, \n",
      " Schema: id, last_scraped, bedrooms, beds, price, city\n",
      "Expected: city but found: \n",
      "CSV file: s3a://nrandriamanana/diffusion/formation/data/airbnb/temp_data-insideairbnb-united-states-or-salem-or-2021-12-20-data-listings.csv.gz\n",
      "2022-07-13 14:53:29,854 WARN csv.CSVHeaderChecker: CSV header does not conform to the schema.\n",
      " Header: id, last_scraped, bedrooms, beds, price, \n",
      " Schema: id, last_scraped, bedrooms, beds, price, city\n",
      "Expected: city but found: \n",
      "CSV file: s3a://nrandriamanana/diffusion/formation/data/airbnb/temp_data-insideairbnb-belgium-bru-brussels-2021-12-20-data-listings.csv.gz\n"
     ]
    },
    {
     "name": "stdout",
     "output_type": "stream",
     "text": [
      "Execution time: 0.642377268999553 s\n"
     ]
    },
    {
     "name": "stderr",
     "output_type": "stream",
     "text": [
      "2022-07-13 14:53:30,096 WARN csv.CSVHeaderChecker: CSV header does not conform to the schema.\n",
      " Header: id, last_scraped, bedrooms, beds, price, \n",
      " Schema: id, last_scraped, bedrooms, beds, price, city\n",
      "Expected: city but found: \n",
      "CSV file: s3a://nrandriamanana/diffusion/formation/data/airbnb/temp_data-insideairbnb-latvia-riga-riga-2021-12-29-data-listings.csv.gz\n"
     ]
    }
   ],
   "source": [
    "from timeit import default_timer as t\n",
    "\n",
    "start = t()\n",
    "listings.filter(col(\"city\")==\"brussels\").select('beds').toPandas().mean()\n",
    "\n",
    "print (\"Execution time:\", t()-start, \"s\")"
   ]
  },
  {
   "cell_type": "code",
   "execution_count": 41,
   "id": "51b83c53",
   "metadata": {},
   "outputs": [
    {
     "name": "stderr",
     "output_type": "stream",
     "text": [
      "2022-07-13 14:53:38,487 WARN csv.CSVHeaderChecker: CSV header does not conform to the schema.\n",
      " Header: id, last_scraped, bedrooms, beds, price, \n",
      " Schema: id, last_scraped, bedrooms, beds, price, city\n",
      "Expected: city but found: \n",
      "CSV file: s3a://nrandriamanana/diffusion/formation/data/airbnb/temp_data-insideairbnb-belgium-bru-brussels-2021-12-20-data-listings.csv.gz\n",
      "2022-07-13 14:53:38,594 WARN csv.CSVHeaderChecker: CSV header does not conform to the schema.\n",
      " Header: id, last_scraped, bedrooms, beds, price, \n",
      " Schema: id, last_scraped, bedrooms, beds, price, city\n",
      "Expected: city but found: \n",
      "CSV file: s3a://nrandriamanana/diffusion/formation/data/airbnb/temp_data-insideairbnb-united-states-or-salem-or-2021-12-20-data-listings.csv.gz\n",
      "2022-07-13 14:53:39,152 WARN csv.CSVHeaderChecker: CSV header does not conform to the schema.\n",
      " Header: id, last_scraped, bedrooms, beds, price, \n",
      " Schema: id, last_scraped, bedrooms, beds, price, city\n",
      "Expected: city but found: \n",
      "CSV file: s3a://nrandriamanana/diffusion/formation/data/airbnb/temp_data-insideairbnb-latvia-riga-riga-2021-12-29-data-listings.csv.gz\n",
      "                                                                                \r"
     ]
    }
   ],
   "source": [
    "# Q11\n",
    "\n",
    "from pyspark.sql.functions import mean\n",
    "price_mean = listings.select(mean(\"price\"))        # this is a (remote) data frame\n",
    "price_mean = price_mean.first()                    # this is a (local) row\n",
    "price_mean = price_mean[0]                         # this is a (local) number"
   ]
  },
  {
   "cell_type": "code",
   "execution_count": 42,
   "id": "ab7a39a7",
   "metadata": {},
   "outputs": [
    {
     "data": {
      "text/plain": [
       "96.29377221449545"
      ]
     },
     "execution_count": 42,
     "metadata": {},
     "output_type": "execute_result"
    }
   ],
   "source": [
    "price_mean"
   ]
  },
  {
   "cell_type": "code",
   "execution_count": 43,
   "id": "25e3f359",
   "metadata": {},
   "outputs": [
    {
     "name": "stderr",
     "output_type": "stream",
     "text": [
      "2022-07-13 14:53:44,992 WARN csv.CSVHeaderChecker: CSV header does not conform to the schema.\n",
      " Header: id, last_scraped, bedrooms, beds, price, \n",
      " Schema: id, last_scraped, bedrooms, beds, price, city\n",
      "Expected: city but found: \n",
      "CSV file: s3a://nrandriamanana/diffusion/formation/data/airbnb/temp_data-insideairbnb-belgium-bru-brussels-2021-12-20-data-listings.csv.gz\n",
      "2022-07-13 14:53:45,299 WARN csv.CSVHeaderChecker: CSV header does not conform to the schema.\n",
      " Header: id, last_scraped, bedrooms, beds, price, \n",
      " Schema: id, last_scraped, bedrooms, beds, price, city\n",
      "Expected: city but found: \n",
      "CSV file: s3a://nrandriamanana/diffusion/formation/data/airbnb/temp_data-insideairbnb-latvia-riga-riga-2021-12-29-data-listings.csv.gz\n",
      "2022-07-13 14:53:45,368 WARN csv.CSVHeaderChecker: CSV header does not conform to the schema.\n",
      " Header: id, last_scraped, bedrooms, beds, price, \n",
      " Schema: id, last_scraped, bedrooms, beds, price, city\n",
      "Expected: city but found: \n",
      "CSV file: s3a://nrandriamanana/diffusion/formation/data/airbnb/temp_data-insideairbnb-united-states-or-salem-or-2021-12-20-data-listings.csv.gz\n"
     ]
    }
   ],
   "source": [
    "from pyspark.sql.functions import sum\n",
    "tss = listings.withColumn(\"squared_error\", (col(\"price\")-price_mean)**2).select(sum(\"squared_error\"))\n",
    "tss = tss.first()\n",
    "tss = tss[0]"
   ]
  },
  {
   "cell_type": "code",
   "execution_count": 44,
   "id": "77259f55",
   "metadata": {},
   "outputs": [
    {
     "data": {
      "text/plain": [
       "322262150.5390205"
      ]
     },
     "execution_count": 44,
     "metadata": {},
     "output_type": "execute_result"
    }
   ],
   "source": [
    "tss"
   ]
  },
  {
   "cell_type": "code",
   "execution_count": 45,
   "id": "710d58ba",
   "metadata": {},
   "outputs": [
    {
     "name": "stderr",
     "output_type": "stream",
     "text": [
      "2022-07-13 14:53:45,850 WARN util.Instrumentation: [7168c5ff] regParam is zero, which might cause numerical instability and overfitting.\n",
      "2022-07-13 14:53:46,023 WARN netlib.InstanceBuilder$NativeBLAS: Failed to load implementation from:dev.ludovic.netlib.blas.JNIBLAS\n",
      "2022-07-13 14:53:46,025 WARN netlib.InstanceBuilder$NativeBLAS: Failed to load implementation from:dev.ludovic.netlib.blas.ForeignLinkerBLAS\n",
      "2022-07-13 14:53:46,100 WARN csv.CSVHeaderChecker: CSV header does not conform to the schema.\n",
      " Header: id, last_scraped, bedrooms, beds, price, \n",
      " Schema: id, last_scraped, bedrooms, beds, price, city\n",
      "Expected: city but found: \n",
      "CSV file: s3a://nrandriamanana/diffusion/formation/data/airbnb/temp_data-insideairbnb-united-states-or-salem-or-2021-12-20-data-listings.csv.gz\n",
      "2022-07-13 14:53:46,104 WARN csv.CSVHeaderChecker: CSV header does not conform to the schema.\n",
      " Header: id, last_scraped, bedrooms, beds, price, \n",
      " Schema: id, last_scraped, bedrooms, beds, price, city\n",
      "Expected: city but found: \n",
      "CSV file: s3a://nrandriamanana/diffusion/formation/data/airbnb/temp_data-insideairbnb-belgium-bru-brussels-2021-12-20-data-listings.csv.gz\n",
      "2022-07-13 14:53:46,214 WARN csv.CSVHeaderChecker: CSV header does not conform to the schema.\n",
      " Header: id, last_scraped, bedrooms, beds, price, \n",
      " Schema: id, last_scraped, bedrooms, beds, price, city\n",
      "Expected: city but found: \n",
      "CSV file: s3a://nrandriamanana/diffusion/formation/data/airbnb/temp_data-insideairbnb-latvia-riga-riga-2021-12-29-data-listings.csv.gz\n",
      "2022-07-13 14:53:46,480 WARN netlib.InstanceBuilder$NativeLAPACK: Failed to load implementation from:dev.ludovic.netlib.lapack.JNILAPACK\n",
      "2022-07-13 14:53:46,896 WARN csv.CSVHeaderChecker: CSV header does not conform to the schema.\n",
      " Header: id, last_scraped, bedrooms, beds, price, \n",
      " Schema: id, last_scraped, bedrooms, beds, price, city\n",
      "Expected: city but found: \n",
      "CSV file: s3a://nrandriamanana/diffusion/formation/data/airbnb/temp_data-insideairbnb-belgium-bru-brussels-2021-12-20-data-listings.csv.gz\n",
      "2022-07-13 14:53:46,971 WARN csv.CSVHeaderChecker: CSV header does not conform to the schema.\n",
      " Header: id, last_scraped, bedrooms, beds, price, \n",
      " Schema: id, last_scraped, bedrooms, beds, price, city\n",
      "Expected: city but found: \n",
      "CSV file: s3a://nrandriamanana/diffusion/formation/data/airbnb/temp_data-insideairbnb-united-states-or-salem-or-2021-12-20-data-listings.csv.gz\n",
      "2022-07-13 14:53:47,139 WARN csv.CSVHeaderChecker: CSV header does not conform to the schema.\n",
      " Header: id, last_scraped, bedrooms, beds, price, \n",
      " Schema: id, last_scraped, bedrooms, beds, price, city\n",
      "Expected: city but found: \n",
      "CSV file: s3a://nrandriamanana/diffusion/formation/data/airbnb/temp_data-insideairbnb-latvia-riga-riga-2021-12-29-data-listings.csv.gz\n"
     ]
    }
   ],
   "source": [
    "# Q12\n",
    "\n",
    "from pyspark.ml.feature import VectorAssembler\n",
    "from pyspark.ml.regression import LinearRegression\n",
    "\n",
    "vectorizer = VectorAssembler( # copy-pasted from previous section...\n",
    "    inputCols     = [\"beds\", \"bedrooms\"], # ... but without price\n",
    "    outputCol     = \"features\",\n",
    "    handleInvalid = 'skip'\n",
    ")\n",
    "\n",
    "listings_vec = vectorizer.transform(listings)\n",
    "\n",
    "regressor = LinearRegression(featuresCol=\"features\", labelCol=\"price\")\n",
    "model     = regressor.fit(listings_vec)"
   ]
  },
  {
   "cell_type": "code",
   "execution_count": 46,
   "id": "b91abc70",
   "metadata": {},
   "outputs": [
    {
     "data": {
      "text/plain": [
       "DenseVector([12.6064, 13.8308])"
      ]
     },
     "execution_count": 46,
     "metadata": {},
     "output_type": "execute_result"
    }
   ],
   "source": [
    "model.coefficients"
   ]
  },
  {
   "cell_type": "code",
   "execution_count": 47,
   "id": "be676426",
   "metadata": {},
   "outputs": [
    {
     "data": {
      "text/plain": [
       "50.835461713709314"
      ]
     },
     "execution_count": 47,
     "metadata": {},
     "output_type": "execute_result"
    }
   ],
   "source": [
    "model.intercept"
   ]
  },
  {
   "cell_type": "code",
   "execution_count": 48,
   "id": "5be531b7",
   "metadata": {},
   "outputs": [
    {
     "name": "stdout",
     "output_type": "stream",
     "text": [
      "+------+----+--------+-----+--------+----------+---------+\n",
      "|    id|beds|bedrooms|price|    city|      time| features|\n",
      "+------+----+--------+-----+--------+----------+---------+\n",
      "|  2352|   2|       2| 87.0|brussels|2021-12-20|[2.0,2.0]|\n",
      "|  2354|   1|       1| 77.0|brussels|2021-12-20|[1.0,1.0]|\n",
      "| 48180|   2|       2|200.0|brussels|2021-12-20|[2.0,2.0]|\n",
      "| 52796|   1|       1| 74.0|brussels|2021-12-20|[1.0,1.0]|\n",
      "| 96293|   4|       1|133.0|brussels|2021-12-20|[4.0,1.0]|\n",
      "| 96694|   3|       1|105.0|brussels|2021-12-20|[3.0,1.0]|\n",
      "| 97740|   3|       2| 95.0|brussels|2021-12-20|[3.0,2.0]|\n",
      "| 97768|   1|       1| 75.0|brussels|2021-12-20|[1.0,1.0]|\n",
      "|106677|   1|       1| 85.0|brussels|2021-12-20|[1.0,1.0]|\n",
      "|130097|   1|       1| 84.0|brussels|2021-12-20|[1.0,1.0]|\n",
      "|134361|   3|       1| 96.0|brussels|2021-12-20|[3.0,1.0]|\n",
      "|134581|   6|       1|120.0|brussels|2021-12-20|[6.0,1.0]|\n",
      "|148797|   5|       3|100.0|brussels|2021-12-20|[5.0,3.0]|\n",
      "|159836|   3|       1| 49.0|brussels|2021-12-20|[3.0,1.0]|\n",
      "|166510|   1|       1|159.0|brussels|2021-12-20|[1.0,1.0]|\n",
      "|184201|   1|       1| 65.0|brussels|2021-12-20|[1.0,1.0]|\n",
      "|196623|   2|       1|100.0|brussels|2021-12-20|[2.0,1.0]|\n",
      "|198943|   1|       1| 70.0|brussels|2021-12-20|[1.0,1.0]|\n",
      "|200385|   1|       1| 68.0|brussels|2021-12-20|[1.0,1.0]|\n",
      "|268652|   2|       1| 72.0|brussels|2021-12-20|[2.0,1.0]|\n",
      "+------+----+--------+-----+--------+----------+---------+\n",
      "only showing top 20 rows\n",
      "\n"
     ]
    }
   ],
   "source": [
    "listings_vec.show()"
   ]
  },
  {
   "cell_type": "code",
   "execution_count": 49,
   "id": "86845199",
   "metadata": {},
   "outputs": [
    {
     "data": {
      "text/plain": [
       "['__class__',\n",
       " '__del__',\n",
       " '__delattr__',\n",
       " '__dict__',\n",
       " '__dir__',\n",
       " '__doc__',\n",
       " '__eq__',\n",
       " '__format__',\n",
       " '__ge__',\n",
       " '__getattribute__',\n",
       " '__gt__',\n",
       " '__hash__',\n",
       " '__init__',\n",
       " '__init_subclass__',\n",
       " '__le__',\n",
       " '__lt__',\n",
       " '__module__',\n",
       " '__ne__',\n",
       " '__new__',\n",
       " '__reduce__',\n",
       " '__reduce_ex__',\n",
       " '__repr__',\n",
       " '__setattr__',\n",
       " '__sizeof__',\n",
       " '__str__',\n",
       " '__subclasshook__',\n",
       " '__weakref__',\n",
       " '_call_java',\n",
       " '_create_from_java_class',\n",
       " '_java_obj',\n",
       " '_new_java_array',\n",
       " '_new_java_obj',\n",
       " 'coefficientStandardErrors',\n",
       " 'degreesOfFreedom',\n",
       " 'devianceResiduals',\n",
       " 'explainedVariance',\n",
       " 'featuresCol',\n",
       " 'labelCol',\n",
       " 'meanAbsoluteError',\n",
       " 'meanSquaredError',\n",
       " 'numInstances',\n",
       " 'objectiveHistory',\n",
       " 'pValues',\n",
       " 'predictionCol',\n",
       " 'predictions',\n",
       " 'r2',\n",
       " 'r2adj',\n",
       " 'residuals',\n",
       " 'rootMeanSquaredError',\n",
       " 'tValues',\n",
       " 'totalIterations']"
      ]
     },
     "execution_count": 49,
     "metadata": {},
     "output_type": "execute_result"
    }
   ],
   "source": [
    "# Q13\n",
    "\n",
    "dir(model)\n",
    "dir(model.summary)"
   ]
  },
  {
   "cell_type": "code",
   "execution_count": 50,
   "id": "c705e2b7",
   "metadata": {},
   "outputs": [
    {
     "data": {
      "text/plain": [
       "0.02264106645437436"
      ]
     },
     "execution_count": 50,
     "metadata": {},
     "output_type": "execute_result"
    }
   ],
   "source": [
    "model.summary.r2"
   ]
  },
  {
   "cell_type": "code",
   "execution_count": 51,
   "id": "88dc02d3",
   "metadata": {},
   "outputs": [],
   "source": [
    "# model.summary.explainedVariance\n",
    "# je voulais recalculer le R2, mais je passe"
   ]
  },
  {
   "cell_type": "code",
   "execution_count": 73,
   "id": "1fee836a",
   "metadata": {},
   "outputs": [
    {
     "name": "stderr",
     "output_type": "stream",
     "text": [
      "2022-07-13 15:03:49,969 WARN util.Instrumentation: [d847ddd3] regParam is zero, which might cause numerical instability and overfitting.\n",
      "2022-07-13 15:03:50,102 WARN csv.CSVHeaderChecker: CSV header does not conform to the schema.\n",
      " Header: id, last_scraped, bedrooms, beds, price, \n",
      " Schema: id, last_scraped, bedrooms, beds, price, city\n",
      "Expected: city but found: \n",
      "CSV file: s3a://nrandriamanana/diffusion/formation/data/airbnb/temp_data-insideairbnb-belgium-bru-brussels-2021-12-20-data-listings.csv.gz\n",
      "2022-07-13 15:03:50,133 WARN csv.CSVHeaderChecker: CSV header does not conform to the schema.\n",
      " Header: id, last_scraped, bedrooms, beds, price, \n",
      " Schema: id, last_scraped, bedrooms, beds, price, city\n",
      "Expected: city but found: \n",
      "CSV file: s3a://nrandriamanana/diffusion/formation/data/airbnb/temp_data-insideairbnb-united-states-or-salem-or-2021-12-20-data-listings.csv.gz\n",
      "2022-07-13 15:03:50,323 WARN csv.CSVHeaderChecker: CSV header does not conform to the schema.\n",
      " Header: id, last_scraped, bedrooms, beds, price, \n",
      " Schema: id, last_scraped, bedrooms, beds, price, city\n",
      "Expected: city but found: \n",
      "CSV file: s3a://nrandriamanana/diffusion/formation/data/airbnb/temp_data-insideairbnb-latvia-riga-riga-2021-12-29-data-listings.csv.gz\n",
      "2022-07-13 15:03:50,661 WARN csv.CSVHeaderChecker: CSV header does not conform to the schema.\n",
      " Header: id, last_scraped, bedrooms, beds, price, \n",
      " Schema: id, last_scraped, bedrooms, beds, price, city\n",
      "Expected: city but found: \n",
      "CSV file: s3a://nrandriamanana/diffusion/formation/data/airbnb/temp_data-insideairbnb-belgium-bru-brussels-2021-12-20-data-listings.csv.gz\n",
      "2022-07-13 15:03:50,695 WARN csv.CSVHeaderChecker: CSV header does not conform to the schema.\n",
      " Header: id, last_scraped, bedrooms, beds, price, \n",
      " Schema: id, last_scraped, bedrooms, beds, price, city\n",
      "Expected: city but found: \n",
      "CSV file: s3a://nrandriamanana/diffusion/formation/data/airbnb/temp_data-insideairbnb-united-states-or-salem-or-2021-12-20-data-listings.csv.gz\n",
      "2022-07-13 15:03:50,840 WARN csv.CSVHeaderChecker: CSV header does not conform to the schema.\n",
      " Header: id, last_scraped, bedrooms, beds, price, \n",
      " Schema: id, last_scraped, bedrooms, beds, price, city\n",
      "Expected: city but found: \n",
      "CSV file: s3a://nrandriamanana/diffusion/formation/data/airbnb/temp_data-insideairbnb-latvia-riga-riga-2021-12-29-data-listings.csv.gz\n"
     ]
    }
   ],
   "source": [
    "# Q14\n",
    "\n",
    "from pyspark.ml.feature import VectorAssembler\n",
    "from pyspark.ml.regression import LinearRegression\n",
    "from pyspark.ml import Pipeline\n",
    "from pyspark.sql.functions import year\n",
    "\n",
    "vectorizer = VectorAssembler(\n",
    "    inputCols     = [\"beds\", \"bedrooms\"],\n",
    "    outputCol     = \"features\",\n",
    "    handleInvalid = 'skip'\n",
    ")\n",
    "regressor = LinearRegression(featuresCol=\"features\", labelCol=\"price\")\n",
    "pipeline  = Pipeline(stages = [vectorizer, regressor])\n",
    "\n",
    "model_2021 = pipeline.fit(listings.filter(year(listings.time)==2021))\n",
    "#model_2020 = pipeline.fit(listings.filter(year(listings.time)==2020))"
   ]
  },
  {
   "cell_type": "code",
   "execution_count": 66,
   "id": "720ba384",
   "metadata": {},
   "outputs": [
    {
     "name": "stderr",
     "output_type": "stream",
     "text": [
      "2022-07-13 15:03:09,490 WARN csv.CSVHeaderChecker: CSV header does not conform to the schema.\n",
      " Header: id, last_scraped, bedrooms, beds, price, \n",
      " Schema: id, last_scraped, bedrooms, beds, price, city\n",
      "Expected: city but found: \n",
      "CSV file: s3a://nrandriamanana/diffusion/formation/data/airbnb/temp_data-insideairbnb-belgium-bru-brussels-2021-12-20-data-listings.csv.gz\n",
      "2022-07-13 15:03:09,573 WARN csv.CSVHeaderChecker: CSV header does not conform to the schema.\n",
      " Header: id, last_scraped, bedrooms, beds, price, \n",
      " Schema: id, last_scraped, bedrooms, beds, price, city\n",
      "Expected: city but found: \n",
      "CSV file: s3a://nrandriamanana/diffusion/formation/data/airbnb/temp_data-insideairbnb-united-states-or-salem-or-2021-12-20-data-listings.csv.gz\n"
     ]
    },
    {
     "name": "stdout",
     "output_type": "stream",
     "text": [
      "+----------+-----+\n",
      "|      time|count|\n",
      "+----------+-----+\n",
      "|2021-12-20| 4695|\n",
      "|2021-12-29| 1776|\n",
      "+----------+-----+\n",
      "\n"
     ]
    },
    {
     "name": "stderr",
     "output_type": "stream",
     "text": [
      "2022-07-13 15:03:09,697 WARN csv.CSVHeaderChecker: CSV header does not conform to the schema.\n",
      " Header: id, last_scraped, bedrooms, beds, price, \n",
      " Schema: id, last_scraped, bedrooms, beds, price, city\n",
      "Expected: city but found: \n",
      "CSV file: s3a://nrandriamanana/diffusion/formation/data/airbnb/temp_data-insideairbnb-latvia-riga-riga-2021-12-29-data-listings.csv.gz\n"
     ]
    }
   ],
   "source": [
    "listings.groupBy(\"time\").count().show()"
   ]
  },
  {
   "cell_type": "code",
   "execution_count": 67,
   "id": "93aac114",
   "metadata": {},
   "outputs": [
    {
     "ename": "NameError",
     "evalue": "name 'model_2020' is not defined",
     "output_type": "error",
     "traceback": [
      "\u001b[0;31m---------------------------------------------------------------------------\u001b[0m",
      "\u001b[0;31mNameError\u001b[0m                                 Traceback (most recent call last)",
      "Input \u001b[0;32mIn [67]\u001b[0m, in \u001b[0;36m<cell line: 1>\u001b[0;34m()\u001b[0m\n\u001b[0;32m----> 1\u001b[0m \u001b[43mmodel_2020\u001b[49m\u001b[38;5;241m.\u001b[39mstages[\u001b[38;5;241m1\u001b[39m]\u001b[38;5;241m.\u001b[39mcoefficients\n",
      "\u001b[0;31mNameError\u001b[0m: name 'model_2020' is not defined"
     ]
    }
   ],
   "source": [
    "model_2020.stages[1].coefficients"
   ]
  },
  {
   "cell_type": "code",
   "execution_count": 71,
   "id": "7b359f26",
   "metadata": {},
   "outputs": [
    {
     "data": {
      "text/plain": [
       "DenseVector([12.6064, 13.8308])"
      ]
     },
     "execution_count": 71,
     "metadata": {},
     "output_type": "execute_result"
    }
   ],
   "source": [
    "model_2021.stages[1].coefficients"
   ]
  },
  {
   "cell_type": "code",
   "execution_count": 68,
   "id": "812d1ab5",
   "metadata": {},
   "outputs": [
    {
     "name": "stdout",
     "output_type": "stream",
     "text": [
      "+------+----+--------+-----+--------+----------+\n",
      "|    id|beds|bedrooms|price|    city|      time|\n",
      "+------+----+--------+-----+--------+----------+\n",
      "|  2352|   2|       2| 87.0|brussels|2021-12-20|\n",
      "|  2354|   1|       1| 77.0|brussels|2021-12-20|\n",
      "| 48180|   2|       2|200.0|brussels|2021-12-20|\n",
      "| 52796|   1|       1| 74.0|brussels|2021-12-20|\n",
      "| 96293|   4|       1|133.0|brussels|2021-12-20|\n",
      "| 96694|   3|       1|105.0|brussels|2021-12-20|\n",
      "| 97740|   3|       2| 95.0|brussels|2021-12-20|\n",
      "| 97768|   1|       1| 75.0|brussels|2021-12-20|\n",
      "|106677|   1|       1| 85.0|brussels|2021-12-20|\n",
      "|130097|   1|       1| 84.0|brussels|2021-12-20|\n",
      "|134361|   3|       1| 96.0|brussels|2021-12-20|\n",
      "|134581|   6|       1|120.0|brussels|2021-12-20|\n",
      "|148797|   5|       3|100.0|brussels|2021-12-20|\n",
      "|159836|   3|       1| 49.0|brussels|2021-12-20|\n",
      "|166510|   1|       1|159.0|brussels|2021-12-20|\n",
      "|184201|   1|       1| 65.0|brussels|2021-12-20|\n",
      "|196623|   2|       1|100.0|brussels|2021-12-20|\n",
      "|198943|   1|       1| 70.0|brussels|2021-12-20|\n",
      "|200385|   1|       1| 68.0|brussels|2021-12-20|\n",
      "|268652|   2|       1| 72.0|brussels|2021-12-20|\n",
      "+------+----+--------+-----+--------+----------+\n",
      "only showing top 20 rows\n",
      "\n"
     ]
    }
   ],
   "source": [
    "listings.filter(year(listings.time)==2021).show()"
   ]
  },
  {
   "cell_type": "code",
   "execution_count": 69,
   "id": "c247f9d4",
   "metadata": {},
   "outputs": [
    {
     "data": {
      "text/plain": [
       "50.835461713709314"
      ]
     },
     "execution_count": 69,
     "metadata": {},
     "output_type": "execute_result"
    }
   ],
   "source": [
    "model_2021.stages[1].intercept"
   ]
  },
  {
   "cell_type": "code",
   "execution_count": 72,
   "id": "0354c6ce",
   "metadata": {},
   "outputs": [
    {
     "ename": "NameError",
     "evalue": "name 'model_2020' is not defined",
     "output_type": "error",
     "traceback": [
      "\u001b[0;31m---------------------------------------------------------------------------\u001b[0m",
      "\u001b[0;31mNameError\u001b[0m                                 Traceback (most recent call last)",
      "Input \u001b[0;32mIn [72]\u001b[0m, in \u001b[0;36m<cell line: 1>\u001b[0;34m()\u001b[0m\n\u001b[0;32m----> 1\u001b[0m \u001b[43mmodel_2020\u001b[49m\u001b[38;5;241m.\u001b[39mstages[\u001b[38;5;241m1\u001b[39m]\u001b[38;5;241m.\u001b[39mintercept\n",
      "\u001b[0;31mNameError\u001b[0m: name 'model_2020' is not defined"
     ]
    }
   ],
   "source": [
    "model_2020.stages[1].intercept"
   ]
  },
  {
   "cell_type": "code",
   "execution_count": 53,
   "id": "8dc06aeb",
   "metadata": {},
   "outputs": [
    {
     "name": "stderr",
     "output_type": "stream",
     "text": [
      "2022-07-13 14:53:50,977 WARN csv.CSVHeaderChecker: CSV header does not conform to the schema.\n",
      " Header: id, last_scraped, bedrooms, beds, price, \n",
      " Schema: id, last_scraped, bedrooms, beds, price, city\n",
      "Expected: city but found: \n",
      "CSV file: s3a://nrandriamanana/diffusion/formation/data/airbnb/temp_data-insideairbnb-united-states-or-salem-or-2021-12-20-data-listings.csv.gz\n",
      "2022-07-13 14:53:51,001 WARN csv.CSVHeaderChecker: CSV header does not conform to the schema.\n",
      " Header: id, last_scraped, bedrooms, beds, price, \n",
      " Schema: id, last_scraped, bedrooms, beds, price, city\n",
      "Expected: city but found: \n",
      "CSV file: s3a://nrandriamanana/diffusion/formation/data/airbnb/temp_data-insideairbnb-belgium-bru-brussels-2021-12-20-data-listings.csv.gz\n",
      "2022-07-13 14:53:51,154 WARN csv.CSVHeaderChecker: CSV header does not conform to the schema.\n",
      " Header: id, last_scraped, bedrooms, beds, price, \n",
      " Schema: id, last_scraped, bedrooms, beds, price, city\n",
      "Expected: city but found: \n",
      "CSV file: s3a://nrandriamanana/diffusion/formation/data/airbnb/temp_data-insideairbnb-latvia-riga-riga-2021-12-29-data-listings.csv.gz\n"
     ]
    },
    {
     "name": "stdout",
     "output_type": "stream",
     "text": [
      "+----------+-----------------+\n",
      "|year(time)|       avg(price)|\n",
      "+----------+-----------------+\n",
      "|      2021|96.29377221449545|\n",
      "+----------+-----------------+\n",
      "\n"
     ]
    },
    {
     "name": "stderr",
     "output_type": "stream",
     "text": [
      "                                                                                \r"
     ]
    }
   ],
   "source": [
    "listings.groupBy(year(\"time\")).agg(mean(\"price\")).show()"
   ]
  },
  {
   "cell_type": "code",
   "execution_count": null,
   "id": "61aaa99c-12a1-49fa-81ee-d47e1b0f78fd",
   "metadata": {},
   "outputs": [],
   "source": []
  }
 ],
 "metadata": {
  "kernelspec": {
   "display_name": "Python 3 (ipykernel)",
   "language": "python",
   "name": "python3"
  },
  "language_info": {
   "codemirror_mode": {
    "name": "ipython",
    "version": 3
   },
   "file_extension": ".py",
   "mimetype": "text/x-python",
   "name": "python",
   "nbconvert_exporter": "python",
   "pygments_lexer": "ipython3",
   "version": "3.9.12"
  }
 },
 "nbformat": 4,
 "nbformat_minor": 5
}
